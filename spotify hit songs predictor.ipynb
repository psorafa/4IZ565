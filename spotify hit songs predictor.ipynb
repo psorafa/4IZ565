{
 "cells": [
  {
   "cell_type": "markdown",
   "id": "f9f8d5ae",
   "metadata": {
    "papermill": {
     "duration": 0.037091,
     "end_time": "2021-08-06T14:28:45.877567",
     "exception": false,
     "start_time": "2021-08-06T14:28:45.840476",
     "status": "completed"
    },
    "tags": []
   },
   "source": [
    "# Jaké rysy dělají ze skladby hit?\n",
    "\n",
    "## Analýza charakteristických atributů hudebních skladeb ze Spotify\n",
    "\n",
    "Předmětem analýzy jsou charakteristické atributy skladeb ze Spotify, jako je jejich tempo, tónina, energičnost, délka apod. (celkem 19 atributů). Cílová proměnná je údaj, zda se skladba v daném období stala populárním mainstreamovým hitem či nikoli (hit/flop) a tuto vlastnost se také budeme snažit predikovat. Jde o ověření domněnky, že všeobecně přijímané populární skladby mají jisté společné měřitelné vlastnosti a jejich líbivost lze algoritmicky dokázat, případně i predikovat a strojově vytvářet."
   ]
  },
  {
   "cell_type": "markdown",
   "id": "ee8aadc9",
   "metadata": {},
   "source": [
    "# Popis dat a jejich struktury \n",
    "\n",
    "Pro analýzu je k dispozici široká a volně stažitelná databáze záznamů o všech skladbách dostupných na Spotify přes Spotify API. Pro tuto semestrální práci využijeme již předzpracovaný dataset z Kaggle https://www.kaggle.com/theoverman/the-spotify-hit-predictor-dataset, kde autor spojil data pomocí \"spotipy\": Python module for Spotify's API (https://pypi.org/project/spotipy/) a \"billboard\": Python module for Billboard's API (https://pypi.org/project/billboard.py/). U dat neočekáváme špatně zadané hodnoty."
   ]
  },
  {
   "cell_type": "markdown",
   "id": "e66951ad",
   "metadata": {
    "papermill": {
     "duration": 0.036286,
     "end_time": "2021-08-06T14:28:47.272978",
     "exception": false,
     "start_time": "2021-08-06T14:28:47.236692",
     "status": "completed"
    },
    "tags": []
   },
   "source": [
    "# Příprava dat"
   ]
  },
  {
   "cell_type": "markdown",
   "id": "439cb909",
   "metadata": {},
   "source": [
    "Import a nastavení esenciálních knihoven"
   ]
  },
  {
   "cell_type": "code",
   "execution_count": 1,
   "id": "69225419",
   "metadata": {
    "execution": {
     "iopub.execute_input": "2021-08-06T14:28:45.956692Z",
     "iopub.status.busy": "2021-08-06T14:28:45.955678Z",
     "iopub.status.idle": "2021-08-06T14:28:47.199682Z",
     "shell.execute_reply": "2021-08-06T14:28:47.199019Z",
     "shell.execute_reply.started": "2021-08-06T14:17:38.857008Z"
    },
    "papermill": {
     "duration": 1.28396,
     "end_time": "2021-08-06T14:28:47.199829",
     "exception": false,
     "start_time": "2021-08-06T14:28:45.915869",
     "status": "completed"
    },
    "tags": []
   },
   "outputs": [],
   "source": [
    "from IPython.core.interactiveshell import InteractiveShell\n",
    "InteractiveShell.ast_node_interactivity = \"all\"\n",
    "\n",
    "import pandas as pd\n",
    "import seaborn as sns\n",
    "import numpy as np\n",
    "import sklearn\n",
    "import time\n",
    "\n",
    "import matplotlib.pyplot as plt\n",
    "import matplotlib as mpl\n",
    "mpl.rcParams['figure.figsize']=(20,5)\n",
    "%matplotlib inline\n",
    "\n",
    "import warnings\n",
    "warnings.filterwarnings('ignore')"
   ]
  },
  {
   "cell_type": "markdown",
   "id": "e1d81821",
   "metadata": {},
   "source": [
    "## Import, agregace a explorace dat\n",
    "\n",
    "Z dostupného datasetu jsme vybrali pro nás relevantnější podmnožinu dat z období 1990-2019. Přidali jsme odvozený atribut \"era\" podle desetiletí, abychom tuto informaci neztratili a datasety spojili do společného dataframu, který si prohlédneme."
   ]
  },
  {
   "cell_type": "code",
   "execution_count": 2,
   "id": "68494f29",
   "metadata": {
    "execution": {
     "iopub.execute_input": "2021-08-06T14:28:47.423061Z",
     "iopub.status.busy": "2021-08-06T14:28:47.422417Z",
     "iopub.status.idle": "2021-08-06T14:28:47.435547Z",
     "shell.execute_reply": "2021-08-06T14:28:47.435003Z",
     "shell.execute_reply.started": "2021-08-06T14:17:38.976402Z"
    },
    "papermill": {
     "duration": 0.052328,
     "end_time": "2021-08-06T14:28:47.435685",
     "exception": false,
     "start_time": "2021-08-06T14:28:47.383357",
     "status": "completed"
    },
    "tags": []
   },
   "outputs": [
    {
     "data": {
      "text/html": [
       "<div>\n",
       "<style scoped>\n",
       "    .dataframe tbody tr th:only-of-type {\n",
       "        vertical-align: middle;\n",
       "    }\n",
       "\n",
       "    .dataframe tbody tr th {\n",
       "        vertical-align: top;\n",
       "    }\n",
       "\n",
       "    .dataframe thead th {\n",
       "        text-align: right;\n",
       "    }\n",
       "</style>\n",
       "<table border=\"1\" class=\"dataframe\">\n",
       "  <thead>\n",
       "    <tr style=\"text-align: right;\">\n",
       "      <th></th>\n",
       "      <th>track</th>\n",
       "      <th>artist</th>\n",
       "      <th>uri</th>\n",
       "      <th>danceability</th>\n",
       "      <th>energy</th>\n",
       "      <th>key</th>\n",
       "      <th>loudness</th>\n",
       "      <th>mode</th>\n",
       "      <th>speechiness</th>\n",
       "      <th>acousticness</th>\n",
       "      <th>instrumentalness</th>\n",
       "      <th>liveness</th>\n",
       "      <th>valence</th>\n",
       "      <th>tempo</th>\n",
       "      <th>duration_ms</th>\n",
       "      <th>time_signature</th>\n",
       "      <th>chorus_hit</th>\n",
       "      <th>sections</th>\n",
       "      <th>target</th>\n",
       "      <th>era</th>\n",
       "    </tr>\n",
       "  </thead>\n",
       "  <tbody>\n",
       "    <tr>\n",
       "      <th>0</th>\n",
       "      <td>Misty Roses</td>\n",
       "      <td>Astrud Gilberto</td>\n",
       "      <td>spotify:track:50RBM1j1Dw7WYmsGsWg9Tm</td>\n",
       "      <td>0.527</td>\n",
       "      <td>0.316</td>\n",
       "      <td>1</td>\n",
       "      <td>-15.769</td>\n",
       "      <td>1</td>\n",
       "      <td>0.0310</td>\n",
       "      <td>0.693000</td>\n",
       "      <td>0.00699</td>\n",
       "      <td>0.1680</td>\n",
       "      <td>0.543</td>\n",
       "      <td>116.211</td>\n",
       "      <td>158840</td>\n",
       "      <td>4</td>\n",
       "      <td>53.89523</td>\n",
       "      <td>6</td>\n",
       "      <td>0</td>\n",
       "      <td>1990</td>\n",
       "    </tr>\n",
       "    <tr>\n",
       "      <th>1</th>\n",
       "      <td>Never Ever</td>\n",
       "      <td>All Saints</td>\n",
       "      <td>spotify:track:5FTz9qQ94PyUHETyAyfYZN</td>\n",
       "      <td>0.738</td>\n",
       "      <td>0.541</td>\n",
       "      <td>1</td>\n",
       "      <td>-5.485</td>\n",
       "      <td>1</td>\n",
       "      <td>0.0311</td>\n",
       "      <td>0.559000</td>\n",
       "      <td>0.00000</td>\n",
       "      <td>0.0492</td>\n",
       "      <td>0.309</td>\n",
       "      <td>134.187</td>\n",
       "      <td>387573</td>\n",
       "      <td>4</td>\n",
       "      <td>32.16853</td>\n",
       "      <td>16</td>\n",
       "      <td>1</td>\n",
       "      <td>1990</td>\n",
       "    </tr>\n",
       "    <tr>\n",
       "      <th>2</th>\n",
       "      <td>Soul Sermon</td>\n",
       "      <td>Gregg Karukas</td>\n",
       "      <td>spotify:track:6m24oe3lk1UMxq9zq4iPFi</td>\n",
       "      <td>0.736</td>\n",
       "      <td>0.419</td>\n",
       "      <td>0</td>\n",
       "      <td>-10.662</td>\n",
       "      <td>1</td>\n",
       "      <td>0.0300</td>\n",
       "      <td>0.693000</td>\n",
       "      <td>0.49500</td>\n",
       "      <td>0.0809</td>\n",
       "      <td>0.265</td>\n",
       "      <td>93.982</td>\n",
       "      <td>237267</td>\n",
       "      <td>4</td>\n",
       "      <td>42.05369</td>\n",
       "      <td>9</td>\n",
       "      <td>0</td>\n",
       "      <td>1990</td>\n",
       "    </tr>\n",
       "    <tr>\n",
       "      <th>3</th>\n",
       "      <td>Clarinet Marmalade - Live</td>\n",
       "      <td>Alton Purnell</td>\n",
       "      <td>spotify:track:5FOXuiLI6knVtgMUjWKj6x</td>\n",
       "      <td>0.565</td>\n",
       "      <td>0.594</td>\n",
       "      <td>5</td>\n",
       "      <td>-13.086</td>\n",
       "      <td>1</td>\n",
       "      <td>0.0646</td>\n",
       "      <td>0.655000</td>\n",
       "      <td>0.92600</td>\n",
       "      <td>0.6750</td>\n",
       "      <td>0.763</td>\n",
       "      <td>114.219</td>\n",
       "      <td>375933</td>\n",
       "      <td>4</td>\n",
       "      <td>80.99693</td>\n",
       "      <td>10</td>\n",
       "      <td>0</td>\n",
       "      <td>1990</td>\n",
       "    </tr>\n",
       "    <tr>\n",
       "      <th>4</th>\n",
       "      <td>До смерті і довше - Drum &amp; Base and Rock Remix</td>\n",
       "      <td>Skryabin</td>\n",
       "      <td>spotify:track:6CxyIPTqSPvAPXfrIZczs4</td>\n",
       "      <td>0.513</td>\n",
       "      <td>0.760</td>\n",
       "      <td>4</td>\n",
       "      <td>-10.077</td>\n",
       "      <td>1</td>\n",
       "      <td>0.0355</td>\n",
       "      <td>0.000017</td>\n",
       "      <td>0.00339</td>\n",
       "      <td>0.1530</td>\n",
       "      <td>0.961</td>\n",
       "      <td>153.166</td>\n",
       "      <td>430653</td>\n",
       "      <td>4</td>\n",
       "      <td>25.57331</td>\n",
       "      <td>20</td>\n",
       "      <td>0</td>\n",
       "      <td>1990</td>\n",
       "    </tr>\n",
       "  </tbody>\n",
       "</table>\n",
       "</div>"
      ],
      "text/plain": [
       "                                            track           artist  \\\n",
       "0                                     Misty Roses  Astrud Gilberto   \n",
       "1                                      Never Ever       All Saints   \n",
       "2                                     Soul Sermon    Gregg Karukas   \n",
       "3                       Clarinet Marmalade - Live    Alton Purnell   \n",
       "4  До смерті і довше - Drum & Base and Rock Remix         Skryabin   \n",
       "\n",
       "                                    uri  danceability  energy  key  loudness  \\\n",
       "0  spotify:track:50RBM1j1Dw7WYmsGsWg9Tm         0.527   0.316    1   -15.769   \n",
       "1  spotify:track:5FTz9qQ94PyUHETyAyfYZN         0.738   0.541    1    -5.485   \n",
       "2  spotify:track:6m24oe3lk1UMxq9zq4iPFi         0.736   0.419    0   -10.662   \n",
       "3  spotify:track:5FOXuiLI6knVtgMUjWKj6x         0.565   0.594    5   -13.086   \n",
       "4  spotify:track:6CxyIPTqSPvAPXfrIZczs4         0.513   0.760    4   -10.077   \n",
       "\n",
       "   mode  speechiness  acousticness  instrumentalness  liveness  valence  \\\n",
       "0     1       0.0310      0.693000           0.00699    0.1680    0.543   \n",
       "1     1       0.0311      0.559000           0.00000    0.0492    0.309   \n",
       "2     1       0.0300      0.693000           0.49500    0.0809    0.265   \n",
       "3     1       0.0646      0.655000           0.92600    0.6750    0.763   \n",
       "4     1       0.0355      0.000017           0.00339    0.1530    0.961   \n",
       "\n",
       "     tempo  duration_ms  time_signature  chorus_hit  sections  target   era  \n",
       "0  116.211       158840               4    53.89523         6       0  1990  \n",
       "1  134.187       387573               4    32.16853        16       1  1990  \n",
       "2   93.982       237267               4    42.05369         9       0  1990  \n",
       "3  114.219       375933               4    80.99693        10       0  1990  \n",
       "4  153.166       430653               4    25.57331        20       0  1990  "
      ]
     },
     "execution_count": 2,
     "metadata": {},
     "output_type": "execute_result"
    },
    {
     "data": {
      "text/plain": [
       "Index(['track', 'artist', 'uri', 'danceability', 'energy', 'key', 'loudness',\n",
       "       'mode', 'speechiness', 'acousticness', 'instrumentalness', 'liveness',\n",
       "       'valence', 'tempo', 'duration_ms', 'time_signature', 'chorus_hit',\n",
       "       'sections', 'target', 'era'],\n",
       "      dtype='object')"
      ]
     },
     "execution_count": 2,
     "metadata": {},
     "output_type": "execute_result"
    },
    {
     "data": {
      "text/plain": [
       "track               0\n",
       "artist              0\n",
       "uri                 0\n",
       "danceability        0\n",
       "energy              0\n",
       "key                 0\n",
       "loudness            0\n",
       "mode                0\n",
       "speechiness         0\n",
       "acousticness        0\n",
       "instrumentalness    0\n",
       "liveness            0\n",
       "valence             0\n",
       "tempo               0\n",
       "duration_ms         0\n",
       "time_signature      0\n",
       "chorus_hit          0\n",
       "sections            0\n",
       "target              0\n",
       "era                 0\n",
       "dtype: int64"
      ]
     },
     "execution_count": 2,
     "metadata": {},
     "output_type": "execute_result"
    }
   ],
   "source": [
    "start = time.time()\n",
    "\n",
    "nineties = pd.DataFrame(pd.read_csv('data/dataset-of-90s.csv')) #Spotify dataset skladeb z devadesátek\n",
    "aughts = pd.DataFrame(pd.read_csv('data/dataset-of-00s.csv'))  #Spotify dataset skladeb začátku tisíciletí\n",
    "tens = pd.DataFrame(pd.read_csv('data/dataset-of-10s.csv'))  #Spotify dataset skladeb po roce 2010\n",
    "\n",
    "nineties[\"era\"]=1990\n",
    "aughts[\"era\"]=2000\n",
    "tens[\"era\"]=2010\n",
    "all_dfs = [nineties, aughts, tens]\n",
    "all_tracks = pd.concat(all_dfs)\n",
    "all_tracks.head(5)\n",
    "all_tracks.columns\n",
    "pd.isnull(all_tracks).sum()"
   ]
  },
  {
   "cell_type": "markdown",
   "id": "df728da7",
   "metadata": {},
   "source": [
    "## Popis dat\n",
    "\n",
    "| Název             | Datový typ       | Rozmezí     | Popis                                                                                                                                                                   |\n",
    "|-------------------|------------------|-------------|-------------------------------------------------------------------------------------------------------------------------------------------------------------------------|\n",
    "| track             | text             | N/A         | Název                                                                                                                                                                   |\n",
    "| artist            | text             | N/A         | Autor                                                                                                                                                                   |\n",
    "| uri               | text             | N/A         | ID                                                                                                                                                                      |\n",
    "| danceability      | Desetinné číslo  | 0.0 až 1.0  | Faktor, jak moc je skladba vhodná k tanci (především rytmičnost a stálost rytmu)                                                                                        |\n",
    "| energy            | Desetinné číslo  | 0.0 až 1.0  | Energie / intenzita skladby                                                                                                                                             |\n",
    "| key               | Celé číslo       | 0 až 11     | Tónina, která ve skladbě převažuje (-1 pokud nelze určit)                                                                                                               |\n",
    "| loudness          | Celé číslo       | -60 až 0    | Celková hlasitost v dB                                                                                                                                                  |\n",
    "| mode              | Celé číslo       | 0 nebo 1    | Durová či molová tónina                                                                                                                                                 |\n",
    "| speechiness       | Desetinné číslo  | 0.0 až 1.0  | Zda je obsaženo mluvené slovo – do 0.33 téměř vůbec, mezi 0.33 a 0.66 se střídavě vyskytuje a více než 0.66 je převážně mluvené slovo (podcasty, poezie, audio knihy)   |\n",
    "| acousticness      | Desetinné číslo  | 0.0 až 1.0  | Odhad, zda je skladba nahrána akusticky či nikoliv                                                                                                                      |\n",
    "| instrumentalness  | Desetinné číslo  | 0.0 až 1.0  | Zda a nakolik je skladba instrumentální, či obsahuje vokály                                                                                                             |\n",
    "| liveness          | Desetinné číslo  | 0.0 až 1.0  | Zda byla skladba nahrána naživo či ve studiu (hodnoty nad 0.8 značí vysokou pravděpodobnost, že byla skladba nahrána živě)                                              |\n",
    "| valence           | Desetinné číslo  | 0.0 až 1.0  | Zda skladba zní více pozitivně (šťastně, optimisticky) či negativně (smutně, naštvaně)                                                                                  |\n",
    "| tempo             | Desetinné číslo  | 0 až 300    | Tempo (odhad) BPM (počet dob/úderů za minutu)                                                                                                                           |\n",
    "| duration_ms       | Celé číslo       | N/A         | Doba trvání skladby v ms                                                                                                                                                |\n",
    "| time_signature    | Celé číslo       | 0 až 10     | Takt – počet dob v taktu (odhad)                                                                                                                                        |\n",
    "| chorus_hit        | Desetinné číslo  | N/A         | Odhad doby začátku refrénu                                                                                                                                              |\n",
    "| sections          | Celé číslo       | 0 až 100    | Počet rozlišitelných částí skladby                                                                                                                                      |\n",
    "| target            | Celé číslo       | 0 nebo 1    | Informace, zda byla v daném období skladba hitem či ne   "
   ]
  },
  {
   "cell_type": "markdown",
   "id": "afd1e4a7",
   "metadata": {},
   "source": [
    "## Úprava dat\n",
    "\n",
    "Z prvního pohledu na agregovaná data je patrné, že pro další zpracování můžeme smazat sloupec \"uri\", který je identifikátorem skladeb. Dále můžeme odvodit sloupec trvání skladby ve vteřinách místo milisekund, v Pandas se to pak neformátuje ve vědecké notaci - tj. je to jednodušší přečíst. Původní sloupec s milisekundami můžeme také smazat.  Sloupec \"target\" přejmenujeme na \"hit\" pro větší srozumitelnost. Vidíme, že žádné hodnoty nechybí, takže tuto vlastnost nemusíme ošetřovat."
   ]
  },
  {
   "cell_type": "code",
   "execution_count": 3,
   "id": "8d773e44",
   "metadata": {
    "execution": {
     "iopub.execute_input": "2021-08-06T14:28:48.090844Z",
     "iopub.status.busy": "2021-08-06T14:28:48.089858Z",
     "iopub.status.idle": "2021-08-06T14:28:48.099006Z",
     "shell.execute_reply": "2021-08-06T14:28:48.098503Z",
     "shell.execute_reply.started": "2021-08-06T14:17:39.392655Z"
    },
    "papermill": {
     "duration": 0.055298,
     "end_time": "2021-08-06T14:28:48.099165",
     "exception": false,
     "start_time": "2021-08-06T14:28:48.043867",
     "status": "completed"
    },
    "tags": []
   },
   "outputs": [
    {
     "data": {
      "text/html": [
       "<div>\n",
       "<style scoped>\n",
       "    .dataframe tbody tr th:only-of-type {\n",
       "        vertical-align: middle;\n",
       "    }\n",
       "\n",
       "    .dataframe tbody tr th {\n",
       "        vertical-align: top;\n",
       "    }\n",
       "\n",
       "    .dataframe thead th {\n",
       "        text-align: right;\n",
       "    }\n",
       "</style>\n",
       "<table border=\"1\" class=\"dataframe\">\n",
       "  <thead>\n",
       "    <tr style=\"text-align: right;\">\n",
       "      <th></th>\n",
       "      <th>track</th>\n",
       "      <th>artist</th>\n",
       "      <th>danceability</th>\n",
       "      <th>energy</th>\n",
       "      <th>key</th>\n",
       "      <th>loudness</th>\n",
       "      <th>mode</th>\n",
       "      <th>speechiness</th>\n",
       "      <th>acousticness</th>\n",
       "      <th>instrumentalness</th>\n",
       "      <th>liveness</th>\n",
       "      <th>valence</th>\n",
       "      <th>tempo</th>\n",
       "      <th>time_signature</th>\n",
       "      <th>chorus_hit</th>\n",
       "      <th>sections</th>\n",
       "      <th>hit</th>\n",
       "      <th>era</th>\n",
       "      <th>duration_s</th>\n",
       "    </tr>\n",
       "  </thead>\n",
       "  <tbody>\n",
       "    <tr>\n",
       "      <th>0</th>\n",
       "      <td>Misty Roses</td>\n",
       "      <td>Astrud Gilberto</td>\n",
       "      <td>0.527</td>\n",
       "      <td>0.316</td>\n",
       "      <td>1</td>\n",
       "      <td>-15.769</td>\n",
       "      <td>1</td>\n",
       "      <td>0.0310</td>\n",
       "      <td>0.693000</td>\n",
       "      <td>0.00699</td>\n",
       "      <td>0.1680</td>\n",
       "      <td>0.543</td>\n",
       "      <td>116.211</td>\n",
       "      <td>4</td>\n",
       "      <td>53.89523</td>\n",
       "      <td>6</td>\n",
       "      <td>0</td>\n",
       "      <td>1990</td>\n",
       "      <td>158.840</td>\n",
       "    </tr>\n",
       "    <tr>\n",
       "      <th>1</th>\n",
       "      <td>Never Ever</td>\n",
       "      <td>All Saints</td>\n",
       "      <td>0.738</td>\n",
       "      <td>0.541</td>\n",
       "      <td>1</td>\n",
       "      <td>-5.485</td>\n",
       "      <td>1</td>\n",
       "      <td>0.0311</td>\n",
       "      <td>0.559000</td>\n",
       "      <td>0.00000</td>\n",
       "      <td>0.0492</td>\n",
       "      <td>0.309</td>\n",
       "      <td>134.187</td>\n",
       "      <td>4</td>\n",
       "      <td>32.16853</td>\n",
       "      <td>16</td>\n",
       "      <td>1</td>\n",
       "      <td>1990</td>\n",
       "      <td>387.573</td>\n",
       "    </tr>\n",
       "    <tr>\n",
       "      <th>2</th>\n",
       "      <td>Soul Sermon</td>\n",
       "      <td>Gregg Karukas</td>\n",
       "      <td>0.736</td>\n",
       "      <td>0.419</td>\n",
       "      <td>0</td>\n",
       "      <td>-10.662</td>\n",
       "      <td>1</td>\n",
       "      <td>0.0300</td>\n",
       "      <td>0.693000</td>\n",
       "      <td>0.49500</td>\n",
       "      <td>0.0809</td>\n",
       "      <td>0.265</td>\n",
       "      <td>93.982</td>\n",
       "      <td>4</td>\n",
       "      <td>42.05369</td>\n",
       "      <td>9</td>\n",
       "      <td>0</td>\n",
       "      <td>1990</td>\n",
       "      <td>237.267</td>\n",
       "    </tr>\n",
       "    <tr>\n",
       "      <th>3</th>\n",
       "      <td>Clarinet Marmalade - Live</td>\n",
       "      <td>Alton Purnell</td>\n",
       "      <td>0.565</td>\n",
       "      <td>0.594</td>\n",
       "      <td>5</td>\n",
       "      <td>-13.086</td>\n",
       "      <td>1</td>\n",
       "      <td>0.0646</td>\n",
       "      <td>0.655000</td>\n",
       "      <td>0.92600</td>\n",
       "      <td>0.6750</td>\n",
       "      <td>0.763</td>\n",
       "      <td>114.219</td>\n",
       "      <td>4</td>\n",
       "      <td>80.99693</td>\n",
       "      <td>10</td>\n",
       "      <td>0</td>\n",
       "      <td>1990</td>\n",
       "      <td>375.933</td>\n",
       "    </tr>\n",
       "    <tr>\n",
       "      <th>4</th>\n",
       "      <td>До смерті і довше - Drum &amp; Base and Rock Remix</td>\n",
       "      <td>Skryabin</td>\n",
       "      <td>0.513</td>\n",
       "      <td>0.760</td>\n",
       "      <td>4</td>\n",
       "      <td>-10.077</td>\n",
       "      <td>1</td>\n",
       "      <td>0.0355</td>\n",
       "      <td>0.000017</td>\n",
       "      <td>0.00339</td>\n",
       "      <td>0.1530</td>\n",
       "      <td>0.961</td>\n",
       "      <td>153.166</td>\n",
       "      <td>4</td>\n",
       "      <td>25.57331</td>\n",
       "      <td>20</td>\n",
       "      <td>0</td>\n",
       "      <td>1990</td>\n",
       "      <td>430.653</td>\n",
       "    </tr>\n",
       "  </tbody>\n",
       "</table>\n",
       "</div>"
      ],
      "text/plain": [
       "                                            track           artist  \\\n",
       "0                                     Misty Roses  Astrud Gilberto   \n",
       "1                                      Never Ever       All Saints   \n",
       "2                                     Soul Sermon    Gregg Karukas   \n",
       "3                       Clarinet Marmalade - Live    Alton Purnell   \n",
       "4  До смерті і довше - Drum & Base and Rock Remix         Skryabin   \n",
       "\n",
       "   danceability  energy  key  loudness  mode  speechiness  acousticness  \\\n",
       "0         0.527   0.316    1   -15.769     1       0.0310      0.693000   \n",
       "1         0.738   0.541    1    -5.485     1       0.0311      0.559000   \n",
       "2         0.736   0.419    0   -10.662     1       0.0300      0.693000   \n",
       "3         0.565   0.594    5   -13.086     1       0.0646      0.655000   \n",
       "4         0.513   0.760    4   -10.077     1       0.0355      0.000017   \n",
       "\n",
       "   instrumentalness  liveness  valence    tempo  time_signature  chorus_hit  \\\n",
       "0           0.00699    0.1680    0.543  116.211               4    53.89523   \n",
       "1           0.00000    0.0492    0.309  134.187               4    32.16853   \n",
       "2           0.49500    0.0809    0.265   93.982               4    42.05369   \n",
       "3           0.92600    0.6750    0.763  114.219               4    80.99693   \n",
       "4           0.00339    0.1530    0.961  153.166               4    25.57331   \n",
       "\n",
       "   sections  hit   era  duration_s  \n",
       "0         6    0  1990     158.840  \n",
       "1        16    1  1990     387.573  \n",
       "2         9    0  1990     237.267  \n",
       "3        10    0  1990     375.933  \n",
       "4        20    0  1990     430.653  "
      ]
     },
     "execution_count": 3,
     "metadata": {},
     "output_type": "execute_result"
    }
   ],
   "source": [
    "all_tracks.rename(columns={\"target\": \"hit\"},inplace=True)\n",
    "all_tracks[\"duration_s\"] = all_tracks[\"duration_ms\"] / 1000\n",
    "drop_cols = [\"uri\", \"duration_ms\"]\n",
    "all_tracks = all_tracks.drop(drop_cols, axis = 1)\n",
    "all_tracks.head(5)"
   ]
  },
  {
   "cell_type": "markdown",
   "id": "ffc318d0",
   "metadata": {
    "papermill": {
     "duration": 0.037977,
     "end_time": "2021-08-06T14:28:48.420685",
     "exception": false,
     "start_time": "2021-08-06T14:28:48.382708",
     "status": "completed"
    },
    "tags": []
   },
   "source": [
    "# Deskriptivní analýza"
   ]
  },
  {
   "cell_type": "markdown",
   "id": "5176a810",
   "metadata": {
    "papermill": {
     "duration": 0.040034,
     "end_time": "2021-08-06T14:28:49.511242",
     "exception": false,
     "start_time": "2021-08-06T14:28:49.471208",
     "status": "completed"
    },
    "tags": []
   },
   "source": [
    "## Histogramy"
   ]
  },
  {
   "cell_type": "code",
   "execution_count": 4,
   "id": "1f6f761d",
   "metadata": {
    "execution": {
     "iopub.execute_input": "2021-08-06T14:28:49.638360Z",
     "iopub.status.busy": "2021-08-06T14:28:49.637658Z",
     "iopub.status.idle": "2021-08-06T14:28:51.713297Z",
     "shell.execute_reply": "2021-08-06T14:28:51.713755Z",
     "shell.execute_reply.started": "2021-08-06T14:17:39.948329Z"
    },
    "papermill": {
     "duration": 2.162485,
     "end_time": "2021-08-06T14:28:51.713917",
     "exception": false,
     "start_time": "2021-08-06T14:28:49.551432",
     "status": "completed"
    },
    "tags": []
   },
   "outputs": [
    {
     "data": {
      "image/png": "[encoded data removed]",
      "text/plain": [
       "<Figure size 1440x1440 with 15 Axes>"
      ]
     },
     "metadata": {
      "needs_background": "light"
     },
     "output_type": "display_data"
    }
   ],
   "source": [
    "fig, ax = plt.subplots(5,3, figsize=(20,20))\n",
    "\n",
    "palette = sns.color_palette(\"cool\", 15)\n",
    "palette_hex = palette.as_hex()\n",
    "\n",
    "def hist_plot(row, column, variable, binsnum):\n",
    "    ax[row, column].hist(all_tracks[variable], bins = binsnum, color = palette_hex[row*3+column])\n",
    "    ax[row, column].set_title(variable + ' histogram')\n",
    "\n",
    "    \n",
    "hist_plot(0, 0, 'danceability', 10)\n",
    "hist_plot(0, 1, 'energy', 10)\n",
    "hist_plot(0, 2, 'key', 10)\n",
    "hist_plot(1,0, 'loudness', 10)\n",
    "hist_plot(1,1, 'mode', 10)\n",
    "hist_plot(1,2, 'speechiness', 10)\n",
    "hist_plot(2,0, 'acousticness', 10)\n",
    "hist_plot(2,1, 'instrumentalness', 10)\n",
    "hist_plot(2,2, 'liveness', 10)\n",
    "hist_plot(3,0, 'valence', 10)\n",
    "hist_plot(3,1, 'tempo', 10)\n",
    "hist_plot(3,2, 'duration_s', 50)\n",
    "hist_plot(4,0, 'time_signature', 10)\n",
    "hist_plot(4,1, 'chorus_hit', 10)\n",
    "hist_plot(4,2, 'sections', 25)\n",
    "\n",
    "plt.show()"
   ]
  },
  {
   "cell_type": "markdown",
   "metadata": {},
   "source": [
    "Z histogramů vidímě, že některé hodnoty nejspíš nebudu příliš vhodné pro analýzu, jako je time_signature, kde dominuje hodnota 4 u všech vzorků, nebo duration a sections, které jsou zřejmě korelované."
   ]
  },
  {
   "cell_type": "markdown",
   "metadata": {},
   "source": [
    "Pro základní přehled o datech použijeme metodu describe a vytvoříme si korelační matici."
   ]
  },
  {
   "cell_type": "code",
   "execution_count": 5,
   "id": "b9509c3c",
   "metadata": {
    "execution": {
     "iopub.execute_input": "2021-08-06T14:28:48.507880Z",
     "iopub.status.busy": "2021-08-06T14:28:48.505727Z",
     "iopub.status.idle": "2021-08-06T14:28:48.572086Z",
     "shell.execute_reply": "2021-08-06T14:28:48.571541Z",
     "shell.execute_reply.started": "2021-08-06T14:17:39.435976Z"
    },
    "papermill": {
     "duration": 0.108832,
     "end_time": "2021-08-06T14:28:48.572234",
     "exception": false,
     "start_time": "2021-08-06T14:28:48.463402",
     "status": "completed"
    },
    "tags": []
   },
   "outputs": [
    {
     "data": {
      "text/html": [
       "<div>\n",
       "<style scoped>\n",
       "    .dataframe tbody tr th:only-of-type {\n",
       "        vertical-align: middle;\n",
       "    }\n",
       "\n",
       "    .dataframe tbody tr th {\n",
       "        vertical-align: top;\n",
       "    }\n",
       "\n",
       "    .dataframe thead th {\n",
       "        text-align: right;\n",
       "    }\n",
       "</style>\n",
       "<table border=\"1\" class=\"dataframe\">\n",
       "  <thead>\n",
       "    <tr style=\"text-align: right;\">\n",
       "      <th></th>\n",
       "      <th>danceability</th>\n",
       "      <th>energy</th>\n",
       "      <th>key</th>\n",
       "      <th>loudness</th>\n",
       "      <th>mode</th>\n",
       "      <th>speechiness</th>\n",
       "      <th>acousticness</th>\n",
       "      <th>instrumentalness</th>\n",
       "      <th>liveness</th>\n",
       "      <th>valence</th>\n",
       "      <th>tempo</th>\n",
       "      <th>time_signature</th>\n",
       "      <th>chorus_hit</th>\n",
       "      <th>sections</th>\n",
       "      <th>hit</th>\n",
       "      <th>era</th>\n",
       "      <th>duration_s</th>\n",
       "    </tr>\n",
       "  </thead>\n",
       "  <tbody>\n",
       "    <tr>\n",
       "      <th>count</th>\n",
       "      <td>17790.000000</td>\n",
       "      <td>17790.000000</td>\n",
       "      <td>17790.000000</td>\n",
       "      <td>17790.000000</td>\n",
       "      <td>17790.000000</td>\n",
       "      <td>17790.000000</td>\n",
       "      <td>17790.000000</td>\n",
       "      <td>17790.000000</td>\n",
       "      <td>17790.000000</td>\n",
       "      <td>17790.000000</td>\n",
       "      <td>17790.00000</td>\n",
       "      <td>17790.000000</td>\n",
       "      <td>17790.000000</td>\n",
       "      <td>17790.000000</td>\n",
       "      <td>17790.000000</td>\n",
       "      <td>17790.000000</td>\n",
       "      <td>17790.000000</td>\n",
       "    </tr>\n",
       "    <tr>\n",
       "      <th>mean</th>\n",
       "      <td>0.559440</td>\n",
       "      <td>0.656260</td>\n",
       "      <td>5.274817</td>\n",
       "      <td>-8.364215</td>\n",
       "      <td>0.652839</td>\n",
       "      <td>0.088697</td>\n",
       "      <td>0.239137</td>\n",
       "      <td>0.158870</td>\n",
       "      <td>0.196671</td>\n",
       "      <td>0.485603</td>\n",
       "      <td>121.01916</td>\n",
       "      <td>3.922709</td>\n",
       "      <td>40.922312</td>\n",
       "      <td>10.812760</td>\n",
       "      <td>0.500000</td>\n",
       "      <td>2000.493536</td>\n",
       "      <td>249.842392</td>\n",
       "    </tr>\n",
       "    <tr>\n",
       "      <th>std</th>\n",
       "      <td>0.187818</td>\n",
       "      <td>0.246307</td>\n",
       "      <td>3.562926</td>\n",
       "      <td>5.305503</td>\n",
       "      <td>0.476081</td>\n",
       "      <td>0.092549</td>\n",
       "      <td>0.307601</td>\n",
       "      <td>0.308722</td>\n",
       "      <td>0.167451</td>\n",
       "      <td>0.255318</td>\n",
       "      <td>29.88302</td>\n",
       "      <td>0.379259</td>\n",
       "      <td>19.909212</td>\n",
       "      <td>4.738156</td>\n",
       "      <td>0.500014</td>\n",
       "      <td>8.170243</td>\n",
       "      <td>111.714318</td>\n",
       "    </tr>\n",
       "    <tr>\n",
       "      <th>min</th>\n",
       "      <td>0.057600</td>\n",
       "      <td>0.000251</td>\n",
       "      <td>0.000000</td>\n",
       "      <td>-49.253000</td>\n",
       "      <td>0.000000</td>\n",
       "      <td>0.022000</td>\n",
       "      <td>0.000000</td>\n",
       "      <td>0.000000</td>\n",
       "      <td>0.013000</td>\n",
       "      <td>0.000000</td>\n",
       "      <td>34.53500</td>\n",
       "      <td>0.000000</td>\n",
       "      <td>0.000000</td>\n",
       "      <td>1.000000</td>\n",
       "      <td>0.000000</td>\n",
       "      <td>1990.000000</td>\n",
       "      <td>15.920000</td>\n",
       "    </tr>\n",
       "    <tr>\n",
       "      <th>25%</th>\n",
       "      <td>0.437000</td>\n",
       "      <td>0.505000</td>\n",
       "      <td>2.000000</td>\n",
       "      <td>-9.911000</td>\n",
       "      <td>0.000000</td>\n",
       "      <td>0.035700</td>\n",
       "      <td>0.008810</td>\n",
       "      <td>0.000000</td>\n",
       "      <td>0.093600</td>\n",
       "      <td>0.278000</td>\n",
       "      <td>97.16900</td>\n",
       "      <td>4.000000</td>\n",
       "      <td>27.884680</td>\n",
       "      <td>8.000000</td>\n",
       "      <td>0.000000</td>\n",
       "      <td>1990.000000</td>\n",
       "      <td>200.046750</td>\n",
       "    </tr>\n",
       "    <tr>\n",
       "      <th>50%</th>\n",
       "      <td>0.577000</td>\n",
       "      <td>0.700000</td>\n",
       "      <td>5.000000</td>\n",
       "      <td>-6.902000</td>\n",
       "      <td>1.000000</td>\n",
       "      <td>0.050400</td>\n",
       "      <td>0.081600</td>\n",
       "      <td>0.000046</td>\n",
       "      <td>0.128000</td>\n",
       "      <td>0.487000</td>\n",
       "      <td>119.87800</td>\n",
       "      <td>4.000000</td>\n",
       "      <td>36.258675</td>\n",
       "      <td>10.000000</td>\n",
       "      <td>0.500000</td>\n",
       "      <td>2000.000000</td>\n",
       "      <td>233.457000</td>\n",
       "    </tr>\n",
       "    <tr>\n",
       "      <th>75%</th>\n",
       "      <td>0.697000</td>\n",
       "      <td>0.857000</td>\n",
       "      <td>8.000000</td>\n",
       "      <td>-5.028000</td>\n",
       "      <td>1.000000</td>\n",
       "      <td>0.096700</td>\n",
       "      <td>0.377000</td>\n",
       "      <td>0.061500</td>\n",
       "      <td>0.257000</td>\n",
       "      <td>0.690000</td>\n",
       "      <td>140.00075</td>\n",
       "      <td>4.000000</td>\n",
       "      <td>48.306250</td>\n",
       "      <td>12.000000</td>\n",
       "      <td>1.000000</td>\n",
       "      <td>2010.000000</td>\n",
       "      <td>276.683000</td>\n",
       "    </tr>\n",
       "    <tr>\n",
       "      <th>max</th>\n",
       "      <td>0.986000</td>\n",
       "      <td>0.999000</td>\n",
       "      <td>11.000000</td>\n",
       "      <td>1.137000</td>\n",
       "      <td>1.000000</td>\n",
       "      <td>0.956000</td>\n",
       "      <td>0.996000</td>\n",
       "      <td>0.998000</td>\n",
       "      <td>0.992000</td>\n",
       "      <td>0.996000</td>\n",
       "      <td>217.94300</td>\n",
       "      <td>5.000000</td>\n",
       "      <td>262.615400</td>\n",
       "      <td>169.000000</td>\n",
       "      <td>1.000000</td>\n",
       "      <td>2010.000000</td>\n",
       "      <td>4170.227000</td>\n",
       "    </tr>\n",
       "  </tbody>\n",
       "</table>\n",
       "</div>"
      ],
      "text/plain": [
       "       danceability        energy           key      loudness          mode  \\\n",
       "count  17790.000000  17790.000000  17790.000000  17790.000000  17790.000000   \n",
       "mean       0.559440      0.656260      5.274817     -8.364215      0.652839   \n",
       "std        0.187818      0.246307      3.562926      5.305503      0.476081   \n",
       "min        0.057600      0.000251      0.000000    -49.253000      0.000000   \n",
       "25%        0.437000      0.505000      2.000000     -9.911000      0.000000   \n",
       "50%        0.577000      0.700000      5.000000     -6.902000      1.000000   \n",
       "75%        0.697000      0.857000      8.000000     -5.028000      1.000000   \n",
       "max        0.986000      0.999000     11.000000      1.137000      1.000000   \n",
       "\n",
       "        speechiness  acousticness  instrumentalness      liveness  \\\n",
       "count  17790.000000  17790.000000      17790.000000  17790.000000   \n",
       "mean       0.088697      0.239137          0.158870      0.196671   \n",
       "std        0.092549      0.307601          0.308722      0.167451   \n",
       "min        0.022000      0.000000          0.000000      0.013000   \n",
       "25%        0.035700      0.008810          0.000000      0.093600   \n",
       "50%        0.050400      0.081600          0.000046      0.128000   \n",
       "75%        0.096700      0.377000          0.061500      0.257000   \n",
       "max        0.956000      0.996000          0.998000      0.992000   \n",
       "\n",
       "            valence        tempo  time_signature    chorus_hit      sections  \\\n",
       "count  17790.000000  17790.00000    17790.000000  17790.000000  17790.000000   \n",
       "mean       0.485603    121.01916        3.922709     40.922312     10.812760   \n",
       "std        0.255318     29.88302        0.379259     19.909212      4.738156   \n",
       "min        0.000000     34.53500        0.000000      0.000000      1.000000   \n",
       "25%        0.278000     97.16900        4.000000     27.884680      8.000000   \n",
       "50%        0.487000    119.87800        4.000000     36.258675     10.000000   \n",
       "75%        0.690000    140.00075        4.000000     48.306250     12.000000   \n",
       "max        0.996000    217.94300        5.000000    262.615400    169.000000   \n",
       "\n",
       "                hit           era    duration_s  \n",
       "count  17790.000000  17790.000000  17790.000000  \n",
       "mean       0.500000   2000.493536    249.842392  \n",
       "std        0.500014      8.170243    111.714318  \n",
       "min        0.000000   1990.000000     15.920000  \n",
       "25%        0.000000   1990.000000    200.046750  \n",
       "50%        0.500000   2000.000000    233.457000  \n",
       "75%        1.000000   2010.000000    276.683000  \n",
       "max        1.000000   2010.000000   4170.227000  "
      ]
     },
     "execution_count": 5,
     "metadata": {},
     "output_type": "execute_result"
    }
   ],
   "source": [
    "all_tracks.describe()"
   ]
  },
  {
   "cell_type": "code",
   "execution_count": 6,
   "metadata": {},
   "outputs": [
    {
     "data": {
      "text/plain": [
       "<Figure size 1080x432 with 0 Axes>"
      ]
     },
     "execution_count": 6,
     "metadata": {},
     "output_type": "execute_result"
    },
    {
     "data": {
      "text/plain": [
       "<AxesSubplot:>"
      ]
     },
     "execution_count": 6,
     "metadata": {},
     "output_type": "execute_result"
    },
    {
     "data": {
      "text/plain": [
       "Text(0.5, 1.0, 'Correlation Matrix')"
      ]
     },
     "execution_count": 6,
     "metadata": {},
     "output_type": "execute_result"
    },
    {
     "data": {
      "image/png": "[encoded data removed]",
      "text/plain": [
       "<Figure size 1080x432 with 2 Axes>"
      ]
     },
     "metadata": {
      "needs_background": "light"
     },
     "output_type": "display_data"
    }
   ],
   "source": [
    "features = ['track', 'artist', 'danceability', 'energy', 'key', 'loudness', 'mode', 'speechiness', 'acousticness', 'instrumentalness', 'liveness',\n",
    "                'valence', 'tempo', 'time_signature', 'chorus_hit','sections', 'duration_s']\n",
    "X = all_tracks[features]\n",
    "\n",
    "plt.figure(figsize=(15,6))\n",
    "sns.heatmap(X.corr(),annot=True)\n",
    "plt.title(\"Correlation Matrix\")\n",
    "plt.show()"
   ]
  },
  {
   "cell_type": "markdown",
   "metadata": {},
   "source": [
    "Vidíme, že atributy energy a loudness nebo sections a duration spolu významně pozitivně korelují, naopak energy a acousticness spolu významně korelují negativně. Tuto znalost využijeme v prediktivních modelech, ale prozatím nebudeme žádné atributy mazat."
   ]
  },
  {
   "cell_type": "markdown",
   "id": "f462eb07",
   "metadata": {
    "papermill": {
     "duration": 0.038603,
     "end_time": "2021-08-06T14:28:48.650072",
     "exception": false,
     "start_time": "2021-08-06T14:28:48.611469",
     "status": "completed"
    },
    "tags": []
   },
   "source": [
    "Dále porovnáme průměrné hodnoty atributů obou podmnožin našeho datasetu rozdělených podle cílového atributu \"hit\". Vybrané atributy nezahrnují atribut \"era\", který je z podstaty v našich datech rozložen rovnoměrně. "
   ]
  },
  {
   "cell_type": "code",
   "execution_count": 7,
   "id": "142959d1",
   "metadata": {
    "execution": {
     "iopub.execute_input": "2021-08-06T14:28:48.749052Z",
     "iopub.status.busy": "2021-08-06T14:28:48.748111Z",
     "iopub.status.idle": "2021-08-06T14:28:48.778282Z",
     "shell.execute_reply": "2021-08-06T14:28:48.778793Z",
     "shell.execute_reply.started": "2021-08-06T14:17:39.520599Z"
    },
    "papermill": {
     "duration": 0.08484,
     "end_time": "2021-08-06T14:28:48.778959",
     "exception": false,
     "start_time": "2021-08-06T14:28:48.694119",
     "status": "completed"
    },
    "tags": []
   },
   "outputs": [
    {
     "data": {
      "text/html": [
       "<div>\n",
       "<style scoped>\n",
       "    .dataframe tbody tr th:only-of-type {\n",
       "        vertical-align: middle;\n",
       "    }\n",
       "\n",
       "    .dataframe tbody tr th {\n",
       "        vertical-align: top;\n",
       "    }\n",
       "\n",
       "    .dataframe thead th {\n",
       "        text-align: right;\n",
       "    }\n",
       "</style>\n",
       "<table border=\"1\" class=\"dataframe\">\n",
       "  <thead>\n",
       "    <tr style=\"text-align: right;\">\n",
       "      <th></th>\n",
       "      <th>hit_mean</th>\n",
       "      <th>flop_mean</th>\n",
       "    </tr>\n",
       "  </thead>\n",
       "  <tbody>\n",
       "    <tr>\n",
       "      <th>danceability</th>\n",
       "      <td>0.640024</td>\n",
       "      <td>0.478857</td>\n",
       "    </tr>\n",
       "    <tr>\n",
       "      <th>energy</th>\n",
       "      <td>0.685306</td>\n",
       "      <td>0.627215</td>\n",
       "    </tr>\n",
       "    <tr>\n",
       "      <th>key</th>\n",
       "      <td>5.335020</td>\n",
       "      <td>5.214615</td>\n",
       "    </tr>\n",
       "    <tr>\n",
       "      <th>loudness</th>\n",
       "      <td>-6.631530</td>\n",
       "      <td>-10.096899</td>\n",
       "    </tr>\n",
       "    <tr>\n",
       "      <th>mode</th>\n",
       "      <td>0.670826</td>\n",
       "      <td>0.634851</td>\n",
       "    </tr>\n",
       "    <tr>\n",
       "      <th>speechiness</th>\n",
       "      <td>0.095196</td>\n",
       "      <td>0.082198</td>\n",
       "    </tr>\n",
       "    <tr>\n",
       "      <th>acousticness</th>\n",
       "      <td>0.159774</td>\n",
       "      <td>0.318499</td>\n",
       "    </tr>\n",
       "    <tr>\n",
       "      <th>instrumentalness</th>\n",
       "      <td>0.014353</td>\n",
       "      <td>0.303387</td>\n",
       "    </tr>\n",
       "    <tr>\n",
       "      <th>liveness</th>\n",
       "      <td>0.183355</td>\n",
       "      <td>0.209987</td>\n",
       "    </tr>\n",
       "    <tr>\n",
       "      <th>valence</th>\n",
       "      <td>0.540854</td>\n",
       "      <td>0.430352</td>\n",
       "    </tr>\n",
       "    <tr>\n",
       "      <th>tempo</th>\n",
       "      <td>120.680646</td>\n",
       "      <td>121.357673</td>\n",
       "    </tr>\n",
       "    <tr>\n",
       "      <th>time_signature</th>\n",
       "      <td>3.970995</td>\n",
       "      <td>3.874424</td>\n",
       "    </tr>\n",
       "    <tr>\n",
       "      <th>chorus_hit</th>\n",
       "      <td>39.391775</td>\n",
       "      <td>42.452849</td>\n",
       "    </tr>\n",
       "    <tr>\n",
       "      <th>sections</th>\n",
       "      <td>10.529511</td>\n",
       "      <td>11.096009</td>\n",
       "    </tr>\n",
       "    <tr>\n",
       "      <th>duration_s</th>\n",
       "      <td>239.981434</td>\n",
       "      <td>259.703350</td>\n",
       "    </tr>\n",
       "  </tbody>\n",
       "</table>\n",
       "</div>"
      ],
      "text/plain": [
       "                    hit_mean   flop_mean\n",
       "danceability        0.640024    0.478857\n",
       "energy              0.685306    0.627215\n",
       "key                 5.335020    5.214615\n",
       "loudness           -6.631530  -10.096899\n",
       "mode                0.670826    0.634851\n",
       "speechiness         0.095196    0.082198\n",
       "acousticness        0.159774    0.318499\n",
       "instrumentalness    0.014353    0.303387\n",
       "liveness            0.183355    0.209987\n",
       "valence             0.540854    0.430352\n",
       "tempo             120.680646  121.357673\n",
       "time_signature      3.970995    3.874424\n",
       "chorus_hit         39.391775   42.452849\n",
       "sections           10.529511   11.096009\n",
       "duration_s        239.981434  259.703350"
      ]
     },
     "execution_count": 7,
     "metadata": {},
     "output_type": "execute_result"
    }
   ],
   "source": [
    "all_tracks_hits = all_tracks[features].loc[all_tracks['hit'] == 1]\n",
    "all_tracks_flops = all_tracks[features].loc[all_tracks['hit'] == 0]\n",
    "\n",
    "hits_means = pd.DataFrame(all_tracks_hits.describe().loc['mean'])\n",
    "flops_means = pd.DataFrame(all_tracks_flops.describe().loc['mean'])\n",
    "means_joined = pd.concat([hits_means,flops_means], axis = 1)\n",
    "means_joined.columns = ['hit_mean', 'flop_mean']\n",
    "\n",
    "means_joined"
   ]
  },
  {
   "cell_type": "code",
   "execution_count": 8,
   "id": "7c2d0a00",
   "metadata": {
    "execution": {
     "iopub.execute_input": "2021-08-06T14:28:48.863845Z",
     "iopub.status.busy": "2021-08-06T14:28:48.863301Z",
     "iopub.status.idle": "2021-08-06T14:28:48.918673Z",
     "shell.execute_reply": "2021-08-06T14:28:48.919158Z",
     "shell.execute_reply.started": "2021-08-06T14:17:39.555148Z"
    },
    "papermill": {
     "duration": 0.099253,
     "end_time": "2021-08-06T14:28:48.919336",
     "exception": false,
     "start_time": "2021-08-06T14:28:48.820083",
     "status": "completed"
    },
    "tags": []
   },
   "outputs": [
    {
     "data": {
      "text/html": [
       "<div>\n",
       "<style scoped>\n",
       "    .dataframe tbody tr th:only-of-type {\n",
       "        vertical-align: middle;\n",
       "    }\n",
       "\n",
       "    .dataframe tbody tr th {\n",
       "        vertical-align: top;\n",
       "    }\n",
       "\n",
       "    .dataframe thead th {\n",
       "        text-align: right;\n",
       "    }\n",
       "</style>\n",
       "<table border=\"1\" class=\"dataframe\">\n",
       "  <thead>\n",
       "    <tr style=\"text-align: right;\">\n",
       "      <th></th>\n",
       "      <th>hit_mean</th>\n",
       "      <th>flop_mean</th>\n",
       "    </tr>\n",
       "  </thead>\n",
       "  <tbody>\n",
       "    <tr>\n",
       "      <th>danceability</th>\n",
       "      <td>0.640024</td>\n",
       "      <td>0.478857</td>\n",
       "    </tr>\n",
       "    <tr>\n",
       "      <th>energy</th>\n",
       "      <td>0.685306</td>\n",
       "      <td>0.627215</td>\n",
       "    </tr>\n",
       "    <tr>\n",
       "      <th>key</th>\n",
       "      <td>5.335020</td>\n",
       "      <td>5.214615</td>\n",
       "    </tr>\n",
       "    <tr>\n",
       "      <th>loudness</th>\n",
       "      <td>-6.631530</td>\n",
       "      <td>-10.096899</td>\n",
       "    </tr>\n",
       "    <tr>\n",
       "      <th>mode</th>\n",
       "      <td>0.670826</td>\n",
       "      <td>0.634851</td>\n",
       "    </tr>\n",
       "    <tr>\n",
       "      <th>speechiness</th>\n",
       "      <td>0.095196</td>\n",
       "      <td>0.082198</td>\n",
       "    </tr>\n",
       "    <tr>\n",
       "      <th>acousticness</th>\n",
       "      <td>0.159774</td>\n",
       "      <td>0.318499</td>\n",
       "    </tr>\n",
       "    <tr>\n",
       "      <th>instrumentalness</th>\n",
       "      <td>0.014353</td>\n",
       "      <td>0.303387</td>\n",
       "    </tr>\n",
       "    <tr>\n",
       "      <th>liveness</th>\n",
       "      <td>0.183355</td>\n",
       "      <td>0.209987</td>\n",
       "    </tr>\n",
       "    <tr>\n",
       "      <th>valence</th>\n",
       "      <td>0.540854</td>\n",
       "      <td>0.430352</td>\n",
       "    </tr>\n",
       "    <tr>\n",
       "      <th>tempo</th>\n",
       "      <td>120.680646</td>\n",
       "      <td>121.357673</td>\n",
       "    </tr>\n",
       "    <tr>\n",
       "      <th>time_signature</th>\n",
       "      <td>3.970995</td>\n",
       "      <td>3.874424</td>\n",
       "    </tr>\n",
       "    <tr>\n",
       "      <th>chorus_hit</th>\n",
       "      <td>39.391775</td>\n",
       "      <td>42.452849</td>\n",
       "    </tr>\n",
       "    <tr>\n",
       "      <th>sections</th>\n",
       "      <td>10.529511</td>\n",
       "      <td>11.096009</td>\n",
       "    </tr>\n",
       "    <tr>\n",
       "      <th>duration_s</th>\n",
       "      <td>239.981434</td>\n",
       "      <td>259.703350</td>\n",
       "    </tr>\n",
       "  </tbody>\n",
       "</table>\n",
       "</div>"
      ],
      "text/plain": [
       "                    hit_mean   flop_mean\n",
       "danceability        0.640024    0.478857\n",
       "energy              0.685306    0.627215\n",
       "key                 5.335020    5.214615\n",
       "loudness           -6.631530  -10.096899\n",
       "mode                0.670826    0.634851\n",
       "speechiness         0.095196    0.082198\n",
       "acousticness        0.159774    0.318499\n",
       "instrumentalness    0.014353    0.303387\n",
       "liveness            0.183355    0.209987\n",
       "valence             0.540854    0.430352\n",
       "tempo             120.680646  121.357673\n",
       "time_signature      3.970995    3.874424\n",
       "chorus_hit         39.391775   42.452849\n",
       "sections           10.529511   11.096009\n",
       "duration_s        239.981434  259.703350"
      ]
     },
     "execution_count": 8,
     "metadata": {},
     "output_type": "execute_result"
    }
   ],
   "source": [
    "hits_means = pd.DataFrame(all_tracks_hits.describe().loc['mean'])\n",
    "flops_means = pd.DataFrame(all_tracks_flops.describe().loc['mean'])\n",
    "means_joined = pd.concat([hits_means,flops_means], axis = 1)\n",
    "means_joined.columns = ['hit_mean', 'flop_mean']\n",
    "\n",
    "means_joined"
   ]
  },
  {
   "cell_type": "markdown",
   "id": "e7589c70",
   "metadata": {},
   "source": [
    "Vidíme, že některé hodnoty jsou si velmi podobné, ale některé se liší více, např. danceability, loudness, acousticness. Tyto atributy zřejmě budou ovlivňovat náš cílový atribut a má smysl pokračovat v analýze."
   ]
  },
  {
   "cell_type": "markdown",
   "metadata": {},
   "source": [
    "# Prediktivní modely\n",
    "\n",
    "Jako první metodu prediktivní analýzy použijeme lineární regresi, jako druhou jsme vybrali random forrest klasifikátor. Data rozdělíme metodou train_test_split v poměru 75% trénovací data a 25% testovací - tento poměr se ukázal jako nejlepší."
   ]
  },
  {
   "cell_type": "code",
   "execution_count": 9,
   "metadata": {},
   "outputs": [],
   "source": [
    "from sklearn.model_selection import train_test_split\n",
    "from sklearn.ensemble import RandomForestClassifier\n",
    "from sklearn.preprocessing import scale\n",
    "\n",
    "features = ['danceability', 'energy', 'key', 'loudness',\n",
    "       'mode', 'speechiness', 'acousticness', 'instrumentalness', 'liveness',\n",
    "       'valence', 'tempo', 'duration_s', 'time_signature', 'chorus_hit',\n",
    "       'sections']\n",
    "\n",
    "X = all_tracks[features]\n",
    "y = all_tracks['hit']\n",
    "\n",
    "X_train,X_test,y_train,y_test=train_test_split(X,y,test_size=0.25,random_state=0) "
   ]
  },
  {
   "cell_type": "markdown",
   "metadata": {},
   "source": [
    "## Logistická regrese\n",
    "\n",
    "V korelačnej matici síce niektoré prvky významne korelujú, ale pretestovali sme všetky možnosti a dospeli k záveru, že model logistickej regresie má najvyššiu presnosť ak ich do modelovania zahrnieme. Metoda ktoru sme vybrali zahrňuje crossvalidáciu a GridSearch. Kombinácia parametrov cv=3 a CS=5 (3-fold) sa ukázalo ako najvhodnejšia, hlavne kvôli rýchlosti výpočtu a samozrejme presnosti modelu."
   ]
  },
  {
   "cell_type": "code",
   "execution_count": 10,
   "id": "c0fd0459",
   "metadata": {},
   "outputs": [
    {
     "data": {
      "text/plain": [
       "LogisticRegressionCV(Cs=5, cv=3, scoring='accuracy')"
      ]
     },
     "execution_count": 10,
     "metadata": {},
     "output_type": "execute_result"
    }
   ],
   "source": [
    "from sklearn.linear_model import LogisticRegressionCV\n",
    "model_LR_cv = LogisticRegressionCV(cv=3,Cs=5,scoring = \"accuracy\" )\n",
    "\n",
    "model_LR_cv.fit(X_train, y_train)"
   ]
  },
  {
   "cell_type": "code",
   "execution_count": 11,
   "id": "deec3fb0",
   "metadata": {},
   "outputs": [
    {
     "data": {
      "text/plain": [
       "<sklearn.metrics._plot.confusion_matrix.ConfusionMatrixDisplay at 0x12862ba90>"
      ]
     },
     "execution_count": 11,
     "metadata": {},
     "output_type": "execute_result"
    },
    {
     "data": {
      "text/plain": [
       "[Text(0.5, 1.0, 'Confusion matrix for Logistic Regression')]"
      ]
     },
     "execution_count": 11,
     "metadata": {},
     "output_type": "execute_result"
    },
    {
     "data": {
      "image/png": "[encoded data removed]",
      "text/plain": [
       "<Figure size 1080x360 with 2 Axes>"
      ]
     },
     "metadata": {
      "needs_background": "light"
     },
     "output_type": "display_data"
    }
   ],
   "source": [
    "from sklearn.metrics import plot_confusion_matrix\n",
    "fig, ax = plt.subplots(figsize=(15,5))\n",
    "plot_confusion_matrix(model_LR_cv, X_test, y_test, cmap=plt.cm.Blues, ax = ax)\n",
    "ax.set(title='Confusion matrix for Logistic Regression')"
   ]
  },
  {
   "cell_type": "code",
   "execution_count": 12,
   "id": "610cbb21",
   "metadata": {},
   "outputs": [
    {
     "data": {
      "text/plain": [
       "array([[1595,  591],\n",
       "       [ 294, 1968]])"
      ]
     },
     "execution_count": 12,
     "metadata": {},
     "output_type": "execute_result"
    },
    {
     "name": "stdout",
     "output_type": "stream",
     "text": [
      "True positive =  1968\n",
      "False positive =  591\n",
      "False negative =  294\n",
      "True negative =  1595\n"
     ]
    },
    {
     "data": {
      "text/plain": [
       "0.8010341726618705"
      ]
     },
     "execution_count": 12,
     "metadata": {},
     "output_type": "execute_result"
    }
   ],
   "source": [
    "def confusion_matrix_values(cm):\n",
    "    print('True positive = ', cm[1][1])\n",
    "    print('False positive = ', cm[0][1])\n",
    "    print('False negative = ', cm[1][0])\n",
    "    print('True negative = ', cm[0][0])\n",
    "\n",
    "y_pred_LR_cv = model_LR_cv.predict(X_test)\n",
    "\n",
    "from sklearn import metrics\n",
    "cm_cv = metrics.confusion_matrix(y_test, y_pred_LR_cv)\n",
    "cm_cv\n",
    "confusion_matrix_values(cm_cv)\n",
    "\n",
    "# Accuracy\n",
    "from sklearn.metrics import accuracy_score\n",
    "accuracy_score(y_test, y_pred_LR_cv)"
   ]
  },
  {
   "cell_type": "code",
   "execution_count": 13,
   "metadata": {},
   "outputs": [
    {
     "data": {
      "text/plain": [
       "GridSearchCV(cv=3, estimator=LogisticRegression(),\n",
       "             param_grid={'C': array([1.00000000e-05, 8.48342898e-05, 7.19685673e-04, 6.10540230e-03,\n",
       "       5.17947468e-02, 4.39397056e-01, 3.72759372e+00, 3.16227766e+01,\n",
       "       2.68269580e+02, 2.27584593e+03, 1.93069773e+04, 1.63789371e+05,\n",
       "       1.38949549e+06, 1.17876863e+07, 1.00000000e+08])})"
      ]
     },
     "execution_count": 13,
     "metadata": {},
     "output_type": "execute_result"
    },
    {
     "name": "stdout",
     "output_type": "stream",
     "text": [
      "Tuned Logistic Regression Parameters: {'C': 2275.845926074791}\n",
      "Best score is 0.7860140266469081\n"
     ]
    }
   ],
   "source": [
    "from sklearn.linear_model import LogisticRegression\n",
    "from sklearn.model_selection import GridSearchCV\n",
    "\n",
    "# Setup the hyperparameter grid\n",
    "c_space = np.logspace(-5, 8, 15)\n",
    "param_grid = {'C': c_space}\n",
    "\n",
    "# Instantiate a logistic regression classifier: logreg\n",
    "logreg = LogisticRegression()\n",
    "\n",
    "# Instantiate the GridSearchCV object: logreg_cv\n",
    "logreg_cv = GridSearchCV(logreg, param_grid, cv=3)\n",
    "\n",
    "# Fit it to the data\n",
    "logreg_cv.fit(X_train, y_train)\n",
    "\n",
    "# Print the tuned parameter and score\n",
    "print(\"Tuned Logistic Regression Parameters: {}\".format(logreg_cv.best_params_))\n",
    "print(\"Best score is {}\".format(logreg_cv.best_score_))"
   ]
  },
  {
   "cell_type": "markdown",
   "metadata": {},
   "source": [
    "Pre zaujímavosť sme vyskúšali regularizáciu manuálne pričom sme ale dostali nižšiu presnosť modelu, takže do úvahy budeme brať prvý model Logistickej regresie."
   ]
  },
  {
   "cell_type": "markdown",
   "metadata": {},
   "source": [
    "## Random Forrest Klasifikátor"
   ]
  },
  {
   "cell_type": "code",
   "execution_count": 14,
   "id": "fca2881d",
   "metadata": {
    "execution": {
     "iopub.execute_input": "2021-08-06T14:28:53.436042Z",
     "iopub.status.busy": "2021-08-06T14:28:53.435363Z",
     "iopub.status.idle": "2021-08-06T14:28:57.207708Z",
     "shell.execute_reply": "2021-08-06T14:28:57.207145Z",
     "shell.execute_reply.started": "2021-08-06T14:17:43.793114Z"
    },
    "papermill": {
     "duration": 3.823639,
     "end_time": "2021-08-06T14:28:57.207876",
     "exception": false,
     "start_time": "2021-08-06T14:28:53.384237",
     "status": "completed"
    },
    "tags": []
   },
   "outputs": [
    {
     "data": {
      "text/plain": [
       "RandomForestClassifier()"
      ]
     },
     "execution_count": 14,
     "metadata": {},
     "output_type": "execute_result"
    }
   ],
   "source": [
    "model_RF = RandomForestClassifier()\n",
    "model_RF.fit(X_train, y_train)\n",
    "y_pred_RF = model_RF.predict(X_test)"
   ]
  },
  {
   "cell_type": "code",
   "execution_count": 15,
   "id": "3c4eea67",
   "metadata": {
    "execution": {
     "iopub.execute_input": "2021-08-06T14:28:57.305682Z",
     "iopub.status.busy": "2021-08-06T14:28:57.304794Z",
     "iopub.status.idle": "2021-08-06T14:28:57.317299Z",
     "shell.execute_reply": "2021-08-06T14:28:57.316719Z",
     "shell.execute_reply.started": "2021-08-06T14:17:47.832795Z"
    },
    "papermill": {
     "duration": 0.062726,
     "end_time": "2021-08-06T14:28:57.317427",
     "exception": false,
     "start_time": "2021-08-06T14:28:57.254701",
     "status": "completed"
    },
    "tags": []
   },
   "outputs": [
    {
     "data": {
      "text/plain": [
       "array([[1774,  412],\n",
       "       [ 295, 1967]])"
      ]
     },
     "execution_count": 15,
     "metadata": {},
     "output_type": "execute_result"
    },
    {
     "name": "stdout",
     "output_type": "stream",
     "text": [
      "True positive =  1967\n",
      "False positive =  412\n",
      "False negative =  295\n",
      "True negative =  1774\n"
     ]
    },
    {
     "data": {
      "text/plain": [
       "0.8410521582733813"
      ]
     },
     "execution_count": 15,
     "metadata": {},
     "output_type": "execute_result"
    }
   ],
   "source": [
    "cm_rfc = metrics.confusion_matrix(y_test, y_pred_RF)\n",
    "cm_rfc\n",
    "confusion_matrix_values(cm_rfc)\n",
    "\n",
    "accuracy_score(y_test, y_pred_RF)"
   ]
  },
  {
   "cell_type": "code",
   "execution_count": 16,
   "id": "11713334",
   "metadata": {
    "execution": {
     "iopub.execute_input": "2021-08-06T14:28:57.428352Z",
     "iopub.status.busy": "2021-08-06T14:28:57.427731Z",
     "iopub.status.idle": "2021-08-06T14:28:57.704325Z",
     "shell.execute_reply": "2021-08-06T14:28:57.704744Z",
     "shell.execute_reply.started": "2021-08-06T14:17:47.854409Z"
    },
    "papermill": {
     "duration": 0.341847,
     "end_time": "2021-08-06T14:28:57.704927",
     "exception": false,
     "start_time": "2021-08-06T14:28:57.363080",
     "status": "completed"
    },
    "tags": []
   },
   "outputs": [
    {
     "data": {
      "text/plain": [
       "<AxesSubplot:>"
      ]
     },
     "execution_count": 16,
     "metadata": {},
     "output_type": "execute_result"
    },
    {
     "data": {
      "text/plain": [
       "Text(0.5, 1.1, 'Confusion matrix for Random Forrest Classifier')"
      ]
     },
     "execution_count": 16,
     "metadata": {},
     "output_type": "execute_result"
    },
    {
     "data": {
      "text/plain": [
       "Text(33.0, 0.5, 'Actual label')"
      ]
     },
     "execution_count": 16,
     "metadata": {},
     "output_type": "execute_result"
    },
    {
     "data": {
      "text/plain": [
       "Text(0.5, 320.8, 'Predicted label')"
      ]
     },
     "execution_count": 16,
     "metadata": {},
     "output_type": "execute_result"
    },
    {
     "data": {
      "image/png": "[encoded data removed]",
      "text/plain": [
       "<Figure size 432x360 with 2 Axes>"
      ]
     },
     "metadata": {
      "needs_background": "light"
     },
     "output_type": "display_data"
    }
   ],
   "source": [
    "mpl.rcParams['figure.figsize']=(6,5)\n",
    "fig, ax = plt.subplots()\n",
    "\n",
    "# seaborn heatmap\n",
    "sns.heatmap(pd.DataFrame(cm_rfc), annot=True, cmap=\"PuBu\" ,fmt='g')\n",
    "ax.xaxis.set_label_position(\"top\")\n",
    "plt.tight_layout()\n",
    "plt.title('Confusion matrix for Random Forrest Classifier', y=1.1)\n",
    "plt.ylabel('Actual label')\n",
    "plt.xlabel('Predicted label', labelpad=15)\n",
    "plt.show()"
   ]
  },
  {
   "cell_type": "markdown",
   "metadata": {},
   "source": [
    "Získali jsme lepší výsledek než při použití LR, ale zkusíme model ještě vylepšit. V RFC zjistíme a seřadíme atributy, podle toho, jak přispívají v modelu, tj. které features jsou v rozhodování nejdůležitější."
   ]
  },
  {
   "cell_type": "code",
   "execution_count": 17,
   "id": "9401f431",
   "metadata": {},
   "outputs": [
    {
     "data": {
      "text/html": [
       "<div>\n",
       "<style scoped>\n",
       "    .dataframe tbody tr th:only-of-type {\n",
       "        vertical-align: middle;\n",
       "    }\n",
       "\n",
       "    .dataframe tbody tr th {\n",
       "        vertical-align: top;\n",
       "    }\n",
       "\n",
       "    .dataframe thead th {\n",
       "        text-align: right;\n",
       "    }\n",
       "</style>\n",
       "<table border=\"1\" class=\"dataframe\">\n",
       "  <thead>\n",
       "    <tr style=\"text-align: right;\">\n",
       "      <th></th>\n",
       "      <th>Feature importance</th>\n",
       "    </tr>\n",
       "    <tr>\n",
       "      <th>Variable</th>\n",
       "      <th></th>\n",
       "    </tr>\n",
       "  </thead>\n",
       "  <tbody>\n",
       "    <tr>\n",
       "      <th>instrumentalness</th>\n",
       "      <td>0.201019</td>\n",
       "    </tr>\n",
       "    <tr>\n",
       "      <th>danceability</th>\n",
       "      <td>0.132018</td>\n",
       "    </tr>\n",
       "    <tr>\n",
       "      <th>acousticness</th>\n",
       "      <td>0.102602</td>\n",
       "    </tr>\n",
       "    <tr>\n",
       "      <th>loudness</th>\n",
       "      <td>0.084946</td>\n",
       "    </tr>\n",
       "    <tr>\n",
       "      <th>duration_s</th>\n",
       "      <td>0.083426</td>\n",
       "    </tr>\n",
       "    <tr>\n",
       "      <th>energy</th>\n",
       "      <td>0.081648</td>\n",
       "    </tr>\n",
       "    <tr>\n",
       "      <th>valence</th>\n",
       "      <td>0.065541</td>\n",
       "    </tr>\n",
       "    <tr>\n",
       "      <th>speechiness</th>\n",
       "      <td>0.053301</td>\n",
       "    </tr>\n",
       "    <tr>\n",
       "      <th>tempo</th>\n",
       "      <td>0.044488</td>\n",
       "    </tr>\n",
       "    <tr>\n",
       "      <th>liveness</th>\n",
       "      <td>0.041707</td>\n",
       "    </tr>\n",
       "    <tr>\n",
       "      <th>chorus_hit</th>\n",
       "      <td>0.040934</td>\n",
       "    </tr>\n",
       "    <tr>\n",
       "      <th>sections</th>\n",
       "      <td>0.031104</td>\n",
       "    </tr>\n",
       "    <tr>\n",
       "      <th>key</th>\n",
       "      <td>0.024260</td>\n",
       "    </tr>\n",
       "    <tr>\n",
       "      <th>mode</th>\n",
       "      <td>0.006561</td>\n",
       "    </tr>\n",
       "    <tr>\n",
       "      <th>time_signature</th>\n",
       "      <td>0.006442</td>\n",
       "    </tr>\n",
       "  </tbody>\n",
       "</table>\n",
       "</div>"
      ],
      "text/plain": [
       "                  Feature importance\n",
       "Variable                            \n",
       "instrumentalness            0.201019\n",
       "danceability                0.132018\n",
       "acousticness                0.102602\n",
       "loudness                    0.084946\n",
       "duration_s                  0.083426\n",
       "energy                      0.081648\n",
       "valence                     0.065541\n",
       "speechiness                 0.053301\n",
       "tempo                       0.044488\n",
       "liveness                    0.041707\n",
       "chorus_hit                  0.040934\n",
       "sections                    0.031104\n",
       "key                         0.024260\n",
       "mode                        0.006561\n",
       "time_signature              0.006442"
      ]
     },
     "execution_count": 17,
     "metadata": {},
     "output_type": "execute_result"
    }
   ],
   "source": [
    "all_songs_feat = model_RF.feature_importances_\n",
    "df_indep_columns = pd.DataFrame(features)\n",
    "df_all_songs_feat = pd.DataFrame(all_songs_feat)\n",
    "all_songs_feat_vars = pd.concat([df_indep_columns, df_all_songs_feat], axis = 1)\n",
    "all_songs_feat_vars.columns = ['Variable', 'Feature importance']\n",
    "all_songs_feat_vars = all_songs_feat_vars.set_index('Variable')\n",
    "all_songs_feat_vars = all_songs_feat_vars.sort_values(by=['Feature importance'], ascending = False)\n",
    "all_songs_feat_vars"
   ]
  },
  {
   "cell_type": "markdown",
   "metadata": {},
   "source": [
    "Odebereme méně důležité atributy a porovnáme výsledky analýzy."
   ]
  },
  {
   "cell_type": "code",
   "execution_count": 18,
   "id": "c9a029fc",
   "metadata": {},
   "outputs": [
    {
     "data": {
      "text/plain": [
       "RandomForestClassifier()"
      ]
     },
     "execution_count": 18,
     "metadata": {},
     "output_type": "execute_result"
    },
    {
     "data": {
      "text/plain": [
       "array([[1743,  443],\n",
       "       [ 312, 1950]])"
      ]
     },
     "execution_count": 18,
     "metadata": {},
     "output_type": "execute_result"
    },
    {
     "data": {
      "text/plain": [
       "0.8302607913669064"
      ]
     },
     "execution_count": 18,
     "metadata": {},
     "output_type": "execute_result"
    }
   ],
   "source": [
    "indep_columns_subset = ['danceability', 'energy', 'acousticness', 'instrumentalness', 'duration_s', 'loudness']\n",
    "\n",
    "X = all_tracks[indep_columns_subset]\n",
    "\n",
    "X_train,X_test,y_train,y_test=train_test_split(X,y,test_size=0.25,random_state=0) # RFC vybírá data náhodně i přes definovaný seed, \n",
    "# proto se výsledky lehce lisí při každém spuštění\n",
    "\n",
    "model_RF.fit(X_train, y_train)\n",
    "\n",
    "y_pred_RF_2 = model_RF.predict(X_test)\n",
    "\n",
    "cnf_matrix = metrics.confusion_matrix(y_test, y_pred_RF_2)\n",
    "cnf_matrix\n",
    "\n",
    "accuracy_score(y_test, y_pred_RF_2)"
   ]
  },
  {
   "cell_type": "markdown",
   "metadata": {},
   "source": [
    "Dostali jsme lehce horší výsledky než při použití všech atributů. Vynechání korelovaných atributů taktéž zlepšení nepřineslo."
   ]
  },
  {
   "cell_type": "code",
   "execution_count": 19,
   "metadata": {},
   "outputs": [
    {
     "data": {
      "text/plain": [
       "RandomForestClassifier()"
      ]
     },
     "execution_count": 19,
     "metadata": {},
     "output_type": "execute_result"
    }
   ],
   "source": [
    "# reset hodnot zpět na všech 15 sloupců a fit na původní (lepší) RFC model\n",
    "X = all_tracks[features]\n",
    "y = all_tracks['hit']\n",
    "\n",
    "X_train,X_test,y_train,y_test=train_test_split(X,y,test_size=0.25,random_state=0) \n",
    "\n",
    "model_RF.fit(X_train, y_train)"
   ]
  },
  {
   "cell_type": "markdown",
   "metadata": {},
   "source": [
    "## Support Vector Machine\n"
   ]
  },
  {
   "cell_type": "code",
   "execution_count": 20,
   "metadata": {},
   "outputs": [],
   "source": [
    "from sklearn import svm\n",
    "\n",
    "# indep_columns_subset = ['danceability', 'energy', 'acousticness', 'instrumentalness', 'duration_s', 'loudness']\n",
    "# X = all_tracks[indep_columns_subset]\n",
    "# X_train,X_test,y_train,y_test=train_test_split(X,y,test_size=0.25,random_state=0) \n",
    "\n",
    "#model_SVM = svm.SVC()\n",
    "#model_SVM.fit(X_train, y_train)\n",
    "#y_pred_SVM = model_SVM.predict(X_test)\n",
    "\n",
    "#cnf_matrix = metrics.confusion_matrix(y_test, y_pred_SVM)\n",
    "#cnf_matrix\n",
    "\n",
    "#accuracy_score(y_test, y_pred_SVM)"
   ]
  },
  {
   "cell_type": "markdown",
   "metadata": {},
   "source": [
    "Vyzkoušeli jsme také metodu SVM, která se ale ukázala jako nevhodná, proto jsme ji ani nezahrnuli do porovnání - dává výrazně horší výsledky než předchozí dvě metody za cenu mnohonásobně delšího trénování modelu a to jak s původním setem 15 atributů, tak s výberem 6 nejvýznamnějších. Pro porovnání stačí odkomentovat - exekuce trvá asi půl minuty navíc."
   ]
  },
  {
   "cell_type": "markdown",
   "id": "1c90a5a6",
   "metadata": {},
   "source": [
    "## ROC Křivky\n",
    "### Logisticská Regrese"
   ]
  },
  {
   "cell_type": "code",
   "execution_count": 21,
   "id": "27a51fe9",
   "metadata": {},
   "outputs": [
    {
     "data": {
      "text/plain": [
       "<Figure size 432x360 with 0 Axes>"
      ]
     },
     "execution_count": 21,
     "metadata": {},
     "output_type": "execute_result"
    },
    {
     "data": {
      "text/plain": [
       "[<matplotlib.lines.Line2D at 0x1283b4f70>]"
      ]
     },
     "execution_count": 21,
     "metadata": {},
     "output_type": "execute_result"
    },
    {
     "data": {
      "text/plain": [
       "[<matplotlib.lines.Line2D at 0x1283bf460>]"
      ]
     },
     "execution_count": 21,
     "metadata": {},
     "output_type": "execute_result"
    },
    {
     "data": {
      "text/plain": [
       "(0.0, 1.0)"
      ]
     },
     "execution_count": 21,
     "metadata": {},
     "output_type": "execute_result"
    },
    {
     "data": {
      "text/plain": [
       "(0.0, 1.05)"
      ]
     },
     "execution_count": 21,
     "metadata": {},
     "output_type": "execute_result"
    },
    {
     "data": {
      "text/plain": [
       "Text(0.5, 0, 'False Positive Rate')"
      ]
     },
     "execution_count": 21,
     "metadata": {},
     "output_type": "execute_result"
    },
    {
     "data": {
      "text/plain": [
       "Text(0, 0.5, 'True Positive Rate')"
      ]
     },
     "execution_count": 21,
     "metadata": {},
     "output_type": "execute_result"
    },
    {
     "data": {
      "text/plain": [
       "Text(0.5, 1.0, 'Logistic Regression ROC curve')"
      ]
     },
     "execution_count": 21,
     "metadata": {},
     "output_type": "execute_result"
    },
    {
     "data": {
      "text/plain": [
       "<matplotlib.legend.Legend at 0x1283bf4f0>"
      ]
     },
     "execution_count": 21,
     "metadata": {},
     "output_type": "execute_result"
    },
    {
     "data": {
      "image/png": "[encoded data removed]",
      "text/plain": [
       "<Figure size 432x360 with 1 Axes>"
      ]
     },
     "metadata": {
      "needs_background": "light"
     },
     "output_type": "display_data"
    }
   ],
   "source": [
    "from sklearn.metrics import roc_curve\n",
    "from sklearn.metrics import roc_auc_score\n",
    "\n",
    "y_test_probs = model_LR_cv.predict_proba(X_test)[:, 1]\n",
    "fpr, tpr, thresholds = roc_curve(y_test, y_test_probs)\n",
    "roc_auc = roc_auc_score(y_test, y_test_probs)\n",
    "plt.figure()\n",
    "lw = 2\n",
    "plt.plot(fpr, tpr, color='darkorange',\n",
    "         lw=lw, label='ROC curve (area = %0.2f)' % roc_auc)\n",
    "plt.plot([0, 1], [0, 1], color='navy', lw=lw, linestyle='--')\n",
    "plt.xlim([0.0, 1.0])\n",
    "plt.ylim([0.0, 1.05])\n",
    "plt.xlabel('False Positive Rate')\n",
    "plt.ylabel('True Positive Rate')\n",
    "plt.title('Logistic Regression ROC curve')\n",
    "plt.legend(loc=\"lower right\")\n",
    "plt.show()"
   ]
  },
  {
   "cell_type": "markdown",
   "id": "0cb3f6ca",
   "metadata": {},
   "source": [
    "Random Forest Classifier"
   ]
  },
  {
   "cell_type": "code",
   "execution_count": 22,
   "id": "2f243499",
   "metadata": {},
   "outputs": [
    {
     "data": {
      "text/plain": [
       "<Figure size 432x360 with 0 Axes>"
      ]
     },
     "execution_count": 22,
     "metadata": {},
     "output_type": "execute_result"
    },
    {
     "data": {
      "text/plain": [
       "[<matplotlib.lines.Line2D at 0x124563700>]"
      ]
     },
     "execution_count": 22,
     "metadata": {},
     "output_type": "execute_result"
    },
    {
     "data": {
      "text/plain": [
       "[<matplotlib.lines.Line2D at 0x124525280>]"
      ]
     },
     "execution_count": 22,
     "metadata": {},
     "output_type": "execute_result"
    },
    {
     "data": {
      "text/plain": [
       "(0.0, 1.0)"
      ]
     },
     "execution_count": 22,
     "metadata": {},
     "output_type": "execute_result"
    },
    {
     "data": {
      "text/plain": [
       "(0.0, 1.05)"
      ]
     },
     "execution_count": 22,
     "metadata": {},
     "output_type": "execute_result"
    },
    {
     "data": {
      "text/plain": [
       "Text(0.5, 0, 'False Positive Rate')"
      ]
     },
     "execution_count": 22,
     "metadata": {},
     "output_type": "execute_result"
    },
    {
     "data": {
      "text/plain": [
       "Text(0, 0.5, 'True Positive Rate')"
      ]
     },
     "execution_count": 22,
     "metadata": {},
     "output_type": "execute_result"
    },
    {
     "data": {
      "text/plain": [
       "Text(0.5, 1.0, 'Random forest ROC curve')"
      ]
     },
     "execution_count": 22,
     "metadata": {},
     "output_type": "execute_result"
    },
    {
     "data": {
      "text/plain": [
       "<matplotlib.legend.Legend at 0x124563d30>"
      ]
     },
     "execution_count": 22,
     "metadata": {},
     "output_type": "execute_result"
    },
    {
     "data": {
      "image/png": "[encoded data removed]",
      "text/plain": [
       "<Figure size 432x360 with 1 Axes>"
      ]
     },
     "metadata": {
      "needs_background": "light"
     },
     "output_type": "display_data"
    }
   ],
   "source": [
    "#ROC curve - Random forest\n",
    "y_test_probs = model_RF.predict_proba(X_test)[:, 1]\n",
    "fpr, tpr, thresholds = roc_curve(y_test, y_test_probs)\n",
    "roc_auc = roc_auc_score(y_test, y_test_probs)\n",
    "plt.figure()\n",
    "lw = 2\n",
    "plt.plot(fpr, tpr, color='lime',\n",
    "         lw=lw, label='ROC curve (area = %0.2f)' % roc_auc)\n",
    "plt.plot([0, 1], [0, 1], color='teal', lw=lw, linestyle='--')\n",
    "plt.xlim([0.0, 1.0])\n",
    "plt.ylim([0.0, 1.05])\n",
    "plt.xlabel('False Positive Rate')\n",
    "plt.ylabel('True Positive Rate')\n",
    "plt.title('Random forest ROC curve')\n",
    "plt.legend(loc=\"lower right\")\n",
    "plt.show()"
   ]
  },
  {
   "cell_type": "markdown",
   "metadata": {},
   "source": [
    "# Evaluace\n",
    "Porovnáme výsledky obou metod názorně pomocí matic záměn a v grafu ROC křivek obou modelů."
   ]
  },
  {
   "cell_type": "code",
   "execution_count": 23,
   "metadata": {},
   "outputs": [
    {
     "data": {
      "text/plain": [
       "<sklearn.metrics._plot.confusion_matrix.ConfusionMatrixDisplay at 0x12596eb50>"
      ]
     },
     "execution_count": 23,
     "metadata": {},
     "output_type": "execute_result"
    },
    {
     "data": {
      "text/plain": [
       "<sklearn.metrics._plot.confusion_matrix.ConfusionMatrixDisplay at 0x1258432b0>"
      ]
     },
     "execution_count": 23,
     "metadata": {},
     "output_type": "execute_result"
    },
    {
     "data": {
      "text/plain": [
       "[Text(0.5, 1.0, 'LinR')]"
      ]
     },
     "execution_count": 23,
     "metadata": {},
     "output_type": "execute_result"
    },
    {
     "data": {
      "text/plain": [
       "[Text(0.5, 1.0, 'RandF')]"
      ]
     },
     "execution_count": 23,
     "metadata": {},
     "output_type": "execute_result"
    },
    {
     "data": {
      "image/png": "[encoded data removed]",
      "text/plain": [
       "<Figure size 432x360 with 3 Axes>"
      ]
     },
     "metadata": {
      "needs_background": "light"
     },
     "output_type": "display_data"
    }
   ],
   "source": [
    "fig, (ax1, ax2) = plt.subplots(1,2, sharex=True, sharey=True, gridspec_kw={'width_ratios':[4,5]}) # při vynechání colorbaru se první graf zvětší, proto je potřeba přenastavit poměr\n",
    "plot_confusion_matrix(model_LR_cv, X_test, y_test, cmap=plt.cm.Blues, ax = ax1, colorbar=False)\n",
    "plot_confusion_matrix(model_RF, X_test, y_test, cmap=plt.cm.Blues, ax = ax2)\n",
    "ax1.set(title='LinR')\n",
    "ax2.set(title='RandF')\n",
    "plt.show()"
   ]
  },
  {
   "cell_type": "code",
   "execution_count": 24,
   "id": "751501a9",
   "metadata": {},
   "outputs": [
    {
     "data": {
      "text/plain": [
       "[<matplotlib.lines.Line2D at 0x125484790>]"
      ]
     },
     "execution_count": 24,
     "metadata": {},
     "output_type": "execute_result"
    },
    {
     "data": {
      "text/plain": [
       "[<matplotlib.lines.Line2D at 0x125484940>]"
      ]
     },
     "execution_count": 24,
     "metadata": {},
     "output_type": "execute_result"
    },
    {
     "data": {
      "text/plain": [
       "(0.0, 1.0)"
      ]
     },
     "execution_count": 24,
     "metadata": {},
     "output_type": "execute_result"
    },
    {
     "data": {
      "text/plain": [
       "(0.0, 1.05)"
      ]
     },
     "execution_count": 24,
     "metadata": {},
     "output_type": "execute_result"
    },
    {
     "data": {
      "text/plain": [
       "Text(0.5, 0, 'False Positive Rate')"
      ]
     },
     "execution_count": 24,
     "metadata": {},
     "output_type": "execute_result"
    },
    {
     "data": {
      "text/plain": [
       "Text(0, 0.5, 'True Positive Rate')"
      ]
     },
     "execution_count": 24,
     "metadata": {},
     "output_type": "execute_result"
    },
    {
     "data": {
      "text/plain": [
       "Text(0.5, 1.0, 'ROC comparison LR x RFC')"
      ]
     },
     "execution_count": 24,
     "metadata": {},
     "output_type": "execute_result"
    },
    {
     "data": {
      "text/plain": [
       "[<matplotlib.lines.Line2D at 0x125477a90>]"
      ]
     },
     "execution_count": 24,
     "metadata": {},
     "output_type": "execute_result"
    },
    {
     "data": {
      "text/plain": [
       "<matplotlib.legend.Legend at 0x125807d30>"
      ]
     },
     "execution_count": 24,
     "metadata": {},
     "output_type": "execute_result"
    },
    {
     "data": {
      "image/png": "[encoded data removed]",
      "text/plain": [
       "<Figure size 432x360 with 1 Axes>"
      ]
     },
     "metadata": {
      "needs_background": "light"
     },
     "output_type": "display_data"
    }
   ],
   "source": [
    "y_test_probs = model_LR_cv.predict_proba(X_test)[:, 1]\n",
    "fpr, tpr, thresholds = roc_curve(y_test, y_test_probs)\n",
    "roc_auc = roc_auc_score(y_test, y_test_probs)\n",
    "plt.figure(0).clf()\n",
    "lw = 2\n",
    "plt.plot(fpr, tpr, color='darkorange',\n",
    "         lw=lw, label='Linear Regression ROC (area = %0.2f)' % roc_auc)\n",
    "plt.plot([0, 1], [0, 1], color='navy', lw=lw, linestyle='--')\n",
    "plt.xlim([0.0, 1.0])\n",
    "plt.ylim([0.0, 1.05])\n",
    "plt.xlabel('False Positive Rate')\n",
    "plt.ylabel('True Positive Rate')\n",
    "plt.title('ROC comparison LR x RFC')\n",
    "\n",
    "#ROC curve - Random forest\n",
    "y_test_probs = model_RF.predict_proba(X_test)[:, 1]\n",
    "fpr, tpr, thresholds = roc_curve(y_test, y_test_probs)\n",
    "roc_auc = roc_auc_score(y_test, y_test_probs)\n",
    "plt.plot(fpr, tpr, color='lime',\n",
    "         lw=lw, label='Random Forest ROC (area = %0.2f)' % roc_auc)\n",
    "plt.legend(loc=\"lower right\")\n",
    "plt.show()\n",
    "\n",
    "end = time.time()"
   ]
  },
  {
   "cell_type": "code",
   "execution_count": 25,
   "metadata": {},
   "outputs": [
    {
     "name": "stdout",
     "output_type": "stream",
     "text": [
      "Exekuce celého notebooku trvala 42.29 s\n"
     ]
    }
   ],
   "source": [
    "print( \"Exekuce celého notebooku trvala %3.2f s\" % (end - start))"
   ]
  },
  {
   "cell_type": "markdown",
   "id": "e56ff741",
   "metadata": {},
   "source": [
    "# Záver\n",
    "\n",
    "Pre modelovanie sme si vybrali 2 modely - Random Forest a Logistickú regresiu so vstavanou crossvalidáciou a vstavaným GridSearch. Random forest dosahiol vyššiu presnosť (84.1% vs 80.1%). Čo sa týka ROC krivky tak Random Forest dosiahol tiež vyššiu hodnotu (90 vs 86 AUC). Oba modely v naší konfiguraci a datové sadě trvaly přibližně stejně dlouho natrénovat, proto jako nejlepší prediktivní model v našem případě vyšel Random Forest Klasifikátor."
   ]
  }
 ],
 "metadata": {
  "interpreter": {
   "hash": "40d3a090f54c6569ab1632332b64b2c03c39dcf918b08424e98f38b5ae0af88f"
  },
  "kernelspec": {
   "display_name": "Python 3.8.8 64-bit ('base': conda)",
   "name": "python3"
  },
  "language_info": {
   "codemirror_mode": {
    "name": "ipython",
    "version": 3
   },
   "file_extension": ".py",
   "mimetype": "text/x-python",
   "name": "python",
   "nbconvert_exporter": "python",
   "pygments_lexer": "ipython3",
   "version": "3.8.8"
  },
  "papermill": {
   "default_parameters": {},
   "duration": 30.794612,
   "end_time": "2021-08-06T14:29:09.605011",
   "environment_variables": {},
   "exception": null,
   "input_path": "__notebook__.ipynb",
   "output_path": "__notebook__.ipynb",
   "parameters": {},
   "start_time": "2021-08-06T14:28:38.810399",
   "version": "2.3.3"
  }
 },
 "nbformat": 4,
 "nbformat_minor": 5
}
