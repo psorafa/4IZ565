{
 "cells": [
  {
   "cell_type": "markdown",
   "id": "f9f8d5ae",
   "metadata": {
    "papermill": {
     "duration": 0.037091,
     "end_time": "2021-08-06T14:28:45.877567",
     "exception": false,
     "start_time": "2021-08-06T14:28:45.840476",
     "status": "completed"
    },
    "tags": []
   },
   "source": [
    "# Jaké rysy dělají ze skladby hit?\n",
    "\n",
    "## Analýza charakteristických atributů hudebních skladeb ze Spotify\n",
    "\n",
    "Předmětem analýzy jsou charakteristické atributy skladeb ze Spotify, jako je jejich tempo, tónina, energičnost, délka apod. (celkem 19 atributů). Cílová proměnná je údaj, zda se skladba v daném období stala populárním mainstreamovým hitem či nikoli (hit/flop) a tuto vlastnost se také budeme snažit predikovat. Jde o ověření domněnky, že všeobecně přijímané populární skladby mají jisté společné měřitelné vlastnosti a jejich líbivost lze algoritmicky dokázat, případně i predikovat a strojově vytvářet."
   ]
  },
  {
   "cell_type": "markdown",
   "metadata": {},
   "source": [
    "## Popis dat a jejich struktury \n",
    "\n",
    "Pro analýzu je k dispozici široká a volně stažitelná databáze záznamů o všech skladbách dostupných na Spotify přes Spotify API. Pro tuto semestrální práci využijeme již předzpracovaný dataset z Kaggle https://www.kaggle.com/theoverman/the-spotify-hit-predictor-dataset, kde autor spojil data pomocí \"spotipy\": Python module for Spotify's API (https://pypi.org/project/spotipy/) a \"billboard\": Python module for Billboard's API (https://pypi.org/project/billboard.py/). U dat neočekáváme špatně zadané hodnoty."
   ]
  },
  {
   "cell_type": "markdown",
   "id": "e66951ad",
   "metadata": {
    "papermill": {
     "duration": 0.036286,
     "end_time": "2021-08-06T14:28:47.272978",
     "exception": false,
     "start_time": "2021-08-06T14:28:47.236692",
     "status": "completed"
    },
    "tags": []
   },
   "source": [
    "# Příprava dat"
   ]
  },
  {
   "cell_type": "markdown",
   "metadata": {},
   "source": [
    "Import a nastavení esenciálních knihoven"
   ]
  },
  {
   "cell_type": "code",
   "execution_count": null,
   "id": "69225419",
   "metadata": {
    "execution": {
     "iopub.execute_input": "2021-08-06T14:28:45.956692Z",
     "iopub.status.busy": "2021-08-06T14:28:45.955678Z",
     "iopub.status.idle": "2021-08-06T14:28:47.199682Z",
     "shell.execute_reply": "2021-08-06T14:28:47.199019Z",
     "shell.execute_reply.started": "2021-08-06T14:17:38.857008Z"
    },
    "papermill": {
     "duration": 1.28396,
     "end_time": "2021-08-06T14:28:47.199829",
     "exception": false,
     "start_time": "2021-08-06T14:28:45.915869",
     "status": "completed"
    },
    "tags": []
   },
   "outputs": [],
   "source": [
    "from IPython.core.interactiveshell import InteractiveShell\n",
    "InteractiveShell.ast_node_interactivity = \"all\"\n",
    "\n",
    "import pandas as pd\n",
    "import seaborn as sns\n",
    "import numpy as np\n",
    "import sklearn\n",
    "\n",
    "import matplotlib.pyplot as plt\n",
    "import matplotlib as mpl\n",
    "mpl.rcParams['figure.figsize']=(20,5)\n",
    "%matplotlib inline\n",
    "\n",
    "import warnings\n",
    "warnings.filterwarnings('ignore')"
   ]
  },
  {
   "cell_type": "markdown",
   "metadata": {},
   "source": [
    "## Import, agregace a explorace dat\n",
    "\n",
    "Z dostupného datasetu jsme vybrali pro nás relevantnější podmnožinu dat z období 1990-2019. Přidali jsme odvozený atribut \"era\" podle desetiletí, abychom tuto informaci neztratili a datasety spojili do společného dataframu, který si prohlédneme."
   ]
  },
  {
   "cell_type": "code",
   "execution_count": null,
   "id": "68494f29",
   "metadata": {
    "execution": {
     "iopub.execute_input": "2021-08-06T14:28:47.423061Z",
     "iopub.status.busy": "2021-08-06T14:28:47.422417Z",
     "iopub.status.idle": "2021-08-06T14:28:47.435547Z",
     "shell.execute_reply": "2021-08-06T14:28:47.435003Z",
     "shell.execute_reply.started": "2021-08-06T14:17:38.976402Z"
    },
    "papermill": {
     "duration": 0.052328,
     "end_time": "2021-08-06T14:28:47.435685",
     "exception": false,
     "start_time": "2021-08-06T14:28:47.383357",
     "status": "completed"
    },
    "tags": []
   },
   "outputs": [],
   "source": [
    "nineties = pd.DataFrame(pd.read_csv('data/dataset-of-90s.csv')) #Spotify dataset skladeb z devadesátek\n",
    "aughts = pd.DataFrame(pd.read_csv('data/dataset-of-00s.csv'))  #Spotify dataset skladeb začátku tisíciletí\n",
    "tens = pd.DataFrame(pd.read_csv('data/dataset-of-10s.csv'))  #Spotify dataset skladeb po roce 2010\n",
    "\n",
    "nineties[\"era\"]=1990\n",
    "aughts[\"era\"]=2000\n",
    "tens[\"era\"]=2010\n",
    "all_dfs = [nineties, aughts, tens]\n",
    "all_tracks = pd.concat(all_dfs)\n",
    "all_tracks.head(5)\n",
    "all_tracks.columns\n",
    "pd.isnull(all_tracks).sum()"
   ]
  },
  {
   "cell_type": "markdown",
   "metadata": {},
   "source": [
    "## Popis dat\n",
    "\n",
    "| Název             | Datový typ       | Rozmezí     | Popis                                                                                                                                                                   |\n",
    "|-------------------|------------------|-------------|-------------------------------------------------------------------------------------------------------------------------------------------------------------------------|\n",
    "| track             | text             | N/A         | Název                                                                                                                                                                   |\n",
    "| artist            | text             | N/A         | Autor                                                                                                                                                                   |\n",
    "| uri               | text             | N/A         | ID                                                                                                                                                                      |\n",
    "| danceability      | Desetinné číslo  | 0.0 až 1.0  | Faktor, jak moc je skladba vhodná k tanci (především rytmičnost a stálost rytmu)                                                                                        |\n",
    "| energy            | Desetinné číslo  | 0.0 až 1.0  | Energie / intenzita skladby                                                                                                                                             |\n",
    "| key               | Celé číslo       | 0 až 11     | Tónina, která ve skladbě převažuje (-1 pokud nelze určit)                                                                                                               |\n",
    "| loudness          | Celé číslo       | -60 až 0    | Celková hlasitost v dB                                                                                                                                                  |\n",
    "| mode              | Celé číslo       | 0 nebo 1    | Durová či molová tónina                                                                                                                                                 |\n",
    "| speechiness       | Desetinné číslo  | 0.0 až 1.0  | Zda je obsaženo mluvené slovo – do 0.33 téměř vůbec, mezi 0.33 a 0.66 se střídavě vyskytuje a více než 0.66 je převážně mluvené slovo (podcasty, poezie, audio knihy)   |\n",
    "| acousticness      | Desetinné číslo  | 0.0 až 1.0  | Odhad, zda je skladba nahrána akusticky či nikoliv                                                                                                                      |\n",
    "| instrumentalness  | Desetinné číslo  | 0.0 až 1.0  | Zda a nakolik je skladba instrumentální, či obsahuje vokály                                                                                                             |\n",
    "| liveness          | Desetinné číslo  | 0.0 až 1.0  | Zda byla skladba nahrána naživo či ve studiu (hodnoty nad 0.8 značí vysokou pravděpodobnost, že byla skladba nahrána živě)                                              |\n",
    "| valence           | Desetinné číslo  | 0.0 až 1.0  | Zda skladba zní více pozitivně (šťastně, optimisticky) či negativně (smutně, naštvaně)                                                                                  |\n",
    "| tempo             | Desetinné číslo  | 0 až 300    | Tempo (odhad) BPM (počet dob/úderů za minutu)                                                                                                                           |\n",
    "| duration_ms       | Celé číslo       | N/A         | Doba trvání skladby v ms                                                                                                                                                |\n",
    "| time_signature    | Celé číslo       | 0 až 10     | Takt – počet dob v taktu (odhad)                                                                                                                                        |\n",
    "| chorus_hit        | Desetinné číslo  | N/A         | Odhad doby začátku refrénu                                                                                                                                              |\n",
    "| sections          | Celé číslo       | 0 až 100    | Počet rozlišitelných částí skladby                                                                                                                                      |\n",
    "| target            | Celé číslo       | 0 nebo 1    | Informace, zda byla v daném období skladba hitem či ne   "
   ]
  },
  {
   "cell_type": "markdown",
   "metadata": {},
   "source": [
    "## Úprava dat\n",
    "\n",
    "Z prvního pohledu na agregovaná data je patrné, že pro další zpracování můžeme smazat sloupec \"uri\", který je identifikátorem skladeb. Dále můžeme odvodit sloupec trvání skladby ve vteřinách místo milisekund, v Pandas se to pak neformátuje ve vědecké notaci - tj. je to jednodušší přečíst. Původní sloupec s milisekundami můžeme také smazat.  Sloupec \"target\" přejmenujeme na \"hit\" pro větší srozumitelnost. Vidíme, že žádné hodnoty nechybí, takže tuto vlastnost nemusíme ošetřovat."
   ]
  },
  {
   "cell_type": "code",
   "execution_count": null,
   "id": "8d773e44",
   "metadata": {
    "execution": {
     "iopub.execute_input": "2021-08-06T14:28:48.090844Z",
     "iopub.status.busy": "2021-08-06T14:28:48.089858Z",
     "iopub.status.idle": "2021-08-06T14:28:48.099006Z",
     "shell.execute_reply": "2021-08-06T14:28:48.098503Z",
     "shell.execute_reply.started": "2021-08-06T14:17:39.392655Z"
    },
    "papermill": {
     "duration": 0.055298,
     "end_time": "2021-08-06T14:28:48.099165",
     "exception": false,
     "start_time": "2021-08-06T14:28:48.043867",
     "status": "completed"
    },
    "tags": []
   },
   "outputs": [],
   "source": [
    "all_tracks.rename(columns={\"target\": \"hit\"},inplace=True)\n",
    "all_tracks[\"duration_s\"] = all_tracks[\"duration_ms\"] / 1000\n",
    "drop_cols = [\"uri\", \"duration_ms\"]\n",
    "all_tracks = all_tracks.drop(drop_cols, axis = 1)\n",
    "all_tracks.head(5)"
   ]
  },
  {
   "cell_type": "markdown",
   "id": "5176a810",
   "metadata": {
    "papermill": {
     "duration": 0.040034,
     "end_time": "2021-08-06T14:28:49.511242",
     "exception": false,
     "start_time": "2021-08-06T14:28:49.471208",
     "status": "completed"
    },
    "tags": []
   },
   "source": [
    "## Histogramy"
   ]
  },
  {
   "cell_type": "code",
   "execution_count": null,
   "id": "1f6f761d",
   "metadata": {
    "execution": {
     "iopub.execute_input": "2021-08-06T14:28:49.638360Z",
     "iopub.status.busy": "2021-08-06T14:28:49.637658Z",
     "iopub.status.idle": "2021-08-06T14:28:51.713297Z",
     "shell.execute_reply": "2021-08-06T14:28:51.713755Z",
     "shell.execute_reply.started": "2021-08-06T14:17:39.948329Z"
    },
    "papermill": {
     "duration": 2.162485,
     "end_time": "2021-08-06T14:28:51.713917",
     "exception": false,
     "start_time": "2021-08-06T14:28:49.551432",
     "status": "completed"
    },
    "tags": []
   },
   "outputs": [],
   "source": [
    "fig, ax = plt.subplots(5,3, figsize=(20,20))\n",
    "\n",
    "#def random_color():\n",
    "#   return list(np.random.choice(range(255), size=3))\n",
    "\n",
    "def hist_plot(row, column, variable, binsnum):\n",
    "    ax[row, column].hist(all_tracks[variable], bins = binsnum)\n",
    "    ax[row, column].set_title(variable + ' histogram')\n",
    "\n",
    "\n",
    "#palette = sns.color_palette(\"RdBu\", 15)\n",
    "#sns.palplot(palette)\n",
    "    \n",
    "hist_plot(0, 0, 'danceability', 10)\n",
    "hist_plot(0, 1, 'energy', 10)\n",
    "hist_plot(0, 2, 'key', 10)\n",
    "hist_plot(1,0, 'loudness', 10)\n",
    "hist_plot(1,1, 'mode', 10)\n",
    "hist_plot(1,2, 'speechiness', 10)\n",
    "hist_plot(2,0, 'acousticness', 10)\n",
    "hist_plot(2,1, 'instrumentalness', 10)\n",
    "hist_plot(2,2, 'liveness', 10)\n",
    "hist_plot(3,0, 'valence', 10)\n",
    "hist_plot(3,1, 'tempo', 10)\n",
    "hist_plot(3,2, 'duration_s', 50)\n",
    "hist_plot(4,0, 'time_signature', 10)\n",
    "hist_plot(4,1, 'chorus_hit', 10)\n",
    "hist_plot(4,2, 'sections', 25)\n",
    "\n",
    "plt.show()"
   ]
  },
  {
   "cell_type": "markdown",
   "id": "ffc318d0",
   "metadata": {
    "papermill": {
     "duration": 0.037977,
     "end_time": "2021-08-06T14:28:48.420685",
     "exception": false,
     "start_time": "2021-08-06T14:28:48.382708",
     "status": "completed"
    },
    "tags": []
   },
   "source": [
    "## Deskriptivní statistiky"
   ]
  },
  {
   "cell_type": "code",
   "execution_count": null,
   "id": "b9509c3c",
   "metadata": {
    "execution": {
     "iopub.execute_input": "2021-08-06T14:28:48.507880Z",
     "iopub.status.busy": "2021-08-06T14:28:48.505727Z",
     "iopub.status.idle": "2021-08-06T14:28:48.572086Z",
     "shell.execute_reply": "2021-08-06T14:28:48.571541Z",
     "shell.execute_reply.started": "2021-08-06T14:17:39.435976Z"
    },
    "papermill": {
     "duration": 0.108832,
     "end_time": "2021-08-06T14:28:48.572234",
     "exception": false,
     "start_time": "2021-08-06T14:28:48.463402",
     "status": "completed"
    },
    "tags": []
   },
   "outputs": [],
   "source": [
    "all_tracks.describe()"
   ]
  },
  {
   "cell_type": "markdown",
   "id": "f462eb07",
   "metadata": {
    "papermill": {
     "duration": 0.038603,
     "end_time": "2021-08-06T14:28:48.650072",
     "exception": false,
     "start_time": "2021-08-06T14:28:48.611469",
     "status": "completed"
    },
    "tags": []
   },
   "source": [
    "Porovnáme průměrné hodnoty atributů obou podmnožin našeho datasetu rozdělených podle cílového atributu \"hit\". Vybrané atributy nezahrnují atribut \"era\", který je z podstaty v našich datech rozložen rovnoměrně. "
   ]
  },
  {
   "cell_type": "code",
   "execution_count": null,
   "id": "142959d1",
   "metadata": {
    "execution": {
     "iopub.execute_input": "2021-08-06T14:28:48.749052Z",
     "iopub.status.busy": "2021-08-06T14:28:48.748111Z",
     "iopub.status.idle": "2021-08-06T14:28:48.778282Z",
     "shell.execute_reply": "2021-08-06T14:28:48.778793Z",
     "shell.execute_reply.started": "2021-08-06T14:17:39.520599Z"
    },
    "papermill": {
     "duration": 0.08484,
     "end_time": "2021-08-06T14:28:48.778959",
     "exception": false,
     "start_time": "2021-08-06T14:28:48.694119",
     "status": "completed"
    },
    "tags": []
   },
   "outputs": [],
   "source": [
    "features = ['track', 'artist', 'danceability', 'energy', 'key', 'loudness', 'mode', 'speechiness', 'acousticness', 'instrumentalness', 'liveness',\n",
    "                'valence', 'tempo', 'time_signature', 'chorus_hit','sections', 'duration_s']\n",
    "all_tracks_hits = all_tracks[features].loc[all_tracks['hit'] == 1]\n",
    "all_tracks_flops = all_tracks[features].loc[all_tracks['hit'] == 0]"
   ]
  },
  {
   "cell_type": "code",
   "execution_count": null,
   "id": "7c2d0a00",
   "metadata": {
    "execution": {
     "iopub.execute_input": "2021-08-06T14:28:48.863845Z",
     "iopub.status.busy": "2021-08-06T14:28:48.863301Z",
     "iopub.status.idle": "2021-08-06T14:28:48.918673Z",
     "shell.execute_reply": "2021-08-06T14:28:48.919158Z",
     "shell.execute_reply.started": "2021-08-06T14:17:39.555148Z"
    },
    "papermill": {
     "duration": 0.099253,
     "end_time": "2021-08-06T14:28:48.919336",
     "exception": false,
     "start_time": "2021-08-06T14:28:48.820083",
     "status": "completed"
    },
    "tags": []
   },
   "outputs": [],
   "source": [
    "hits_means = pd.DataFrame(all_tracks_hits.describe().loc['mean'])\n",
    "flops_means = pd.DataFrame(all_tracks_flops.describe().loc['mean'])\n",
    "means_joined = pd.concat([hits_means,flops_means], axis = 1)\n",
    "means_joined.columns = ['hit_mean', 'flop_mean']\n",
    "\n",
    "means_joined"
   ]
  },
  {
   "cell_type": "markdown",
   "metadata": {},
   "source": [
    "Vidíme, že některé hodnoty jsou si velmi podobné, ale některé se liší více, např. danceability, loudness, acousticness. Tyto atributy zřejmě budou ovlivňovat náš cílový atribut a má smysl pokračovat v analýze."
   ]
  },
  {
   "cell_type": "code",
   "execution_count": 32,
   "id": "fca2881d",
   "metadata": {
    "execution": {
     "iopub.execute_input": "2021-08-06T14:28:53.436042Z",
     "iopub.status.busy": "2021-08-06T14:28:53.435363Z",
     "iopub.status.idle": "2021-08-06T14:28:57.207708Z",
     "shell.execute_reply": "2021-08-06T14:28:57.207145Z",
     "shell.execute_reply.started": "2021-08-06T14:17:43.793114Z"
    },
    "papermill": {
     "duration": 3.823639,
     "end_time": "2021-08-06T14:28:57.207876",
     "exception": false,
     "start_time": "2021-08-06T14:28:53.384237",
     "status": "completed"
    },
    "tags": []
   },
   "outputs": [
    {
     "data": {
      "text/plain": [
       "RandomForestClassifier()"
      ]
     },
     "execution_count": 32,
     "metadata": {},
     "output_type": "execute_result"
    }
   ],
   "source": [
    "from sklearn.model_selection import train_test_split\n",
    "from sklearn.ensemble import RandomForestClassifier\n",
    "from sklearn.preprocessing import scale\n",
    "\n",
    "indep_columns = ['danceability', 'energy', 'key', 'loudness',\n",
    "       'mode', 'speechiness', 'acousticness', 'instrumentalness', 'liveness',\n",
    "       'valence', 'tempo', 'duration_s', 'time_signature', 'chorus_hit',\n",
    "       'sections']\n",
    "\n",
    "X = all_tracks[indep_columns]\n",
    "y = all_tracks['hit']\n",
    "\n",
    "X_train,X_test,y_train,y_test=train_test_split(X,y,test_size=0.25,random_state=0) \n",
    "RF = RandomForestClassifier()\n",
    "RF.fit(X_train, y_train)\n",
    "y_pred = RF.predict(X_test)"
   ]
  },
  {
   "cell_type": "code",
   "execution_count": 33,
   "id": "3c4eea67",
   "metadata": {
    "execution": {
     "iopub.execute_input": "2021-08-06T14:28:57.305682Z",
     "iopub.status.busy": "2021-08-06T14:28:57.304794Z",
     "iopub.status.idle": "2021-08-06T14:28:57.317299Z",
     "shell.execute_reply": "2021-08-06T14:28:57.316719Z",
     "shell.execute_reply.started": "2021-08-06T14:17:47.832795Z"
    },
    "papermill": {
     "duration": 0.062726,
     "end_time": "2021-08-06T14:28:57.317427",
     "exception": false,
     "start_time": "2021-08-06T14:28:57.254701",
     "status": "completed"
    },
    "tags": []
   },
   "outputs": [
    {
     "data": {
      "text/plain": [
       "array([[1774,  412],\n",
       "       [ 280, 1982]])"
      ]
     },
     "execution_count": 33,
     "metadata": {},
     "output_type": "execute_result"
    }
   ],
   "source": [
    "from sklearn import metrics\n",
    "cnf_matrix = metrics.confusion_matrix(y_test, y_pred)\n",
    "cnf_matrix"
   ]
  },
  {
   "cell_type": "code",
   "execution_count": 34,
   "id": "11713334",
   "metadata": {
    "execution": {
     "iopub.execute_input": "2021-08-06T14:28:57.428352Z",
     "iopub.status.busy": "2021-08-06T14:28:57.427731Z",
     "iopub.status.idle": "2021-08-06T14:28:57.704325Z",
     "shell.execute_reply": "2021-08-06T14:28:57.704744Z",
     "shell.execute_reply.started": "2021-08-06T14:17:47.854409Z"
    },
    "papermill": {
     "duration": 0.341847,
     "end_time": "2021-08-06T14:28:57.704927",
     "exception": false,
     "start_time": "2021-08-06T14:28:57.363080",
     "status": "completed"
    },
    "tags": []
   },
   "outputs": [
    {
     "data": {
      "text/plain": [
       "([<matplotlib.axis.XTick at 0x124ad5a90>,\n",
       "  <matplotlib.axis.XTick at 0x124ad58e0>],\n",
       " [Text(0, 0, '0'), Text(1, 0, '1')])"
      ]
     },
     "execution_count": 34,
     "metadata": {},
     "output_type": "execute_result"
    },
    {
     "data": {
      "text/plain": [
       "([<matplotlib.axis.YTick at 0x124037760>,\n",
       "  <matplotlib.axis.YTick at 0x123f2be50>],\n",
       " [Text(0, 0, '0'), Text(0, 1, '1')])"
      ]
     },
     "execution_count": 34,
     "metadata": {},
     "output_type": "execute_result"
    },
    {
     "data": {
      "text/plain": [
       "<AxesSubplot:>"
      ]
     },
     "execution_count": 34,
     "metadata": {},
     "output_type": "execute_result"
    },
    {
     "data": {
      "text/plain": [
       "Text(0.5, 1.1, 'Confusion matrix')"
      ]
     },
     "execution_count": 34,
     "metadata": {},
     "output_type": "execute_result"
    },
    {
     "data": {
      "text/plain": [
       "Text(66.5, 0.5, 'Actual label')"
      ]
     },
     "execution_count": 34,
     "metadata": {},
     "output_type": "execute_result"
    },
    {
     "data": {
      "text/plain": [
       "Text(0.5, 320.8, 'Predicted label')"
      ]
     },
     "execution_count": 34,
     "metadata": {},
     "output_type": "execute_result"
    },
    {
     "data": {
      "image/png": "[encoded data removed]",
      "text/plain": [
       "<Figure size 720x360 with 2 Axes>"
      ]
     },
     "metadata": {},
     "output_type": "display_data"
    }
   ],
   "source": [
    "mpl.rcParams['figure.figsize']=(10,5)\n",
    "class_names=[0,1] \n",
    "fig, ax = plt.subplots()\n",
    "tick_marks = np.arange(len(class_names))\n",
    "plt.xticks(tick_marks, class_names)\n",
    "plt.yticks(tick_marks, class_names)\n",
    "\n",
    "\n",
    "# heatmap\n",
    "sns.heatmap(pd.DataFrame(cnf_matrix), annot=True, cmap=\"RdPu\" ,fmt='g')\n",
    "ax.xaxis.set_label_position(\"top\")\n",
    "plt.tight_layout()\n",
    "plt.title('Confusion matrix', y=1.1)\n",
    "plt.ylabel('Actual label')\n",
    "plt.xlabel('Predicted label')\n",
    "plt.show()"
   ]
  }
 ],
 "metadata": {
  "interpreter": {
   "hash": "40d3a090f54c6569ab1632332b64b2c03c39dcf918b08424e98f38b5ae0af88f"
  },
  "kernelspec": {
   "display_name": "Python 3.8.8 64-bit ('base': conda)",
   "name": "python3"
  },
  "language_info": {
   "codemirror_mode": {
    "name": "ipython",
    "version": 3
   },
   "file_extension": ".py",
   "mimetype": "text/x-python",
   "name": "python",
   "nbconvert_exporter": "python",
   "pygments_lexer": "ipython3",
   "version": "3.8.8"
  },
  "papermill": {
   "default_parameters": {},
   "duration": 30.794612,
   "end_time": "2021-08-06T14:29:09.605011",
   "environment_variables": {},
   "exception": null,
   "input_path": "__notebook__.ipynb",
   "output_path": "__notebook__.ipynb",
   "parameters": {},
   "start_time": "2021-08-06T14:28:38.810399",
   "version": "2.3.3"
  }
 },
 "nbformat": 4,
 "nbformat_minor": 5
}
